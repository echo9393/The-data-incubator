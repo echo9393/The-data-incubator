{
  "nbformat": 4,
  "nbformat_minor": 0,
  "metadata": {
    "kernelspec": {
      "display_name": "Python 3",
      "language": "python",
      "name": "python3"
    },
    "language_info": {
      "codemirror_mode": {
        "name": "ipython",
        "version": 3
      },
      "file_extension": ".py",
      "mimetype": "text/x-python",
      "name": "python",
      "nbconvert_exporter": "python",
      "pygments_lexer": "ipython3",
      "version": "3.6.1"
    },
    "colab": {
      "name": "DA_Risk_Level_Code.ipynb",
      "provenance": []
    }
  },
  "cells": [
    {
      "cell_type": "markdown",
      "metadata": {
        "id": "DwRDp1OD6uS2",
        "colab_type": "text"
      },
      "source": [
        "# Data Input"
      ]
    },
    {
      "cell_type": "code",
      "metadata": {
        "id": "8nNic6um6uS3",
        "colab_type": "code",
        "colab": {}
      },
      "source": [
        "import pandas as pd\n",
        "import numpy as np\n",
        "import matplotlib.pylab as plt\n",
        "\n",
        "%matplotlib inline\n",
        "\n",
        "# from matplotlib.pylab import rcParams\n",
        "# rcParams['figure.figsize'] = 15,6"
      ],
      "execution_count": null,
      "outputs": []
    },
    {
      "cell_type": "code",
      "metadata": {
        "id": "l8_PfXvz6uS8",
        "colab_type": "code",
        "colab": {}
      },
      "source": [
        "data = pd.read_csv('prosperLoanData_1.csv')"
      ],
      "execution_count": null,
      "outputs": []
    },
    {
      "cell_type": "code",
      "metadata": {
        "id": "5gLl07_N6uS_",
        "colab_type": "code",
        "colab": {}
      },
      "source": [
        "col_all_NaN = []\n",
        "perct_null = 0\n",
        "\n",
        "features = list(data.columns)\n",
        "\n",
        "for i in range(len(features)):\n",
        "    var = features[i]\n",
        "    perct_null = data[features[i]].isnull().sum()/len(data)\n",
        "    if perct_null > 0.8:\n",
        "        col_all_NaN.append(var)\n",
        "        data.drop(var, axis = 1, inplace = True)"
      ],
      "execution_count": null,
      "outputs": []
    },
    {
      "cell_type": "markdown",
      "metadata": {
        "id": "tO2dmDM66uTC",
        "colab_type": "text"
      },
      "source": [
        "# Data Cleaning"
      ]
    },
    {
      "cell_type": "code",
      "metadata": {
        "id": "OzxcSzI-6uTC",
        "colab_type": "code",
        "colab": {},
        "outputId": "3ff1d1c1-fa37-49df-c9ae-33d1bf4b0c9c"
      },
      "source": [
        "drop = ['CreditGrade', 'ProsperRating (Alpha)','LoanStatus']\n",
        "data.drop(drop, axis = 1, inplace = True)\n",
        "data1 = data.drop_duplicates(subset=['ListingKey'])\n",
        "drop = ['Investors','CreditScoreRangeUpper','CreditScoreRangeLower','BorrowerAPR', 'BorrowerRate', 'LenderYield','LP_CustomerPrincipalPayments', 'LP_InterestandFees',\n",
        "       'LP_ServiceFees', 'LP_CollectionFees', 'LP_GrossPrincipalLoss',\n",
        "       'LP_NetPrincipalLoss', 'LP_NonPrincipalRecoverypayments','LP_CustomerPayments','GradeScores','ListingKey', 'ListingNumber','ListingCreationDate','ClosedDate','DateCreditPulled','FirstRecordedCreditLine','LoanKey','LoanNumber','LoanOriginationDate','LoanOriginationQuarter','MemberKey']\n",
        "data1.drop(drop, axis=1, inplace=True)\n",
        "data1.shape"
      ],
      "execution_count": null,
      "outputs": [
        {
          "output_type": "stream",
          "text": [
            "/anaconda/lib/python3.6/site-packages/ipykernel_launcher.py:7: SettingWithCopyWarning: \n",
            "A value is trying to be set on a copy of a slice from a DataFrame\n",
            "\n",
            "See the caveats in the documentation: http://pandas.pydata.org/pandas-docs/stable/indexing.html#indexing-view-versus-copy\n",
            "  import sys\n"
          ],
          "name": "stderr"
        },
        {
          "output_type": "execute_result",
          "data": {
            "text/plain": [
              "(112726, 44)"
            ]
          },
          "metadata": {
            "tags": []
          },
          "execution_count": 4
        }
      ]
    },
    {
      "cell_type": "code",
      "metadata": {
        "id": "bTWKfz906uTG",
        "colab_type": "code",
        "colab": {},
        "outputId": "b53285c8-256b-4e6a-c770-b4be08d5a765"
      },
      "source": [
        "data1.info()"
      ],
      "execution_count": null,
      "outputs": [
        {
          "output_type": "stream",
          "text": [
            "<class 'pandas.core.frame.DataFrame'>\n",
            "Int64Index: 112726 entries, 0 to 113936\n",
            "Data columns (total 44 columns):\n",
            "Term                                  112726 non-null int64\n",
            "EstimatedEffectiveYield               83733 non-null float64\n",
            "EstimatedLoss                         83733 non-null float64\n",
            "EstimatedReturn                       83733 non-null float64\n",
            "ProsperRating (numeric)               83733 non-null float64\n",
            "Grade                                 112595 non-null object\n",
            "ProsperScore                          83733 non-null float64\n",
            "ListingCategory (numeric)             112726 non-null int64\n",
            "BorrowerState                         107226 non-null object\n",
            "Occupation                            109205 non-null object\n",
            "EmploymentStatus                      110478 non-null object\n",
            "EmploymentStatusDuration              105121 non-null float64\n",
            "IsBorrowerHomeowner                   112726 non-null bool\n",
            "CurrentlyInGroup                      112726 non-null bool\n",
            "CurrentCreditLines                    105142 non-null float64\n",
            "OpenCreditLines                       105142 non-null float64\n",
            "TotalCreditLinespast7years            112029 non-null float64\n",
            "OpenRevolvingAccounts                 112726 non-null int64\n",
            "OpenRevolvingMonthlyPayment           112726 non-null int64\n",
            "InquiriesLast6Months                  112029 non-null float64\n",
            "TotalInquiries                        111569 non-null float64\n",
            "CurrentDelinquencies                  112029 non-null float64\n",
            "AmountDelinquent                      105124 non-null float64\n",
            "DelinquenciesLast7Years               111737 non-null float64\n",
            "PublicRecordsLast10Years              112029 non-null float64\n",
            "PublicRecordsLast12Months             105142 non-null float64\n",
            "RevolvingCreditBalance                105142 non-null float64\n",
            "BankcardUtilization                   105142 non-null float64\n",
            "AvailableBankcardCredit               105202 non-null float64\n",
            "TotalTrades                           105202 non-null float64\n",
            "TradesNeverDelinquent (percentage)    105202 non-null float64\n",
            "TradesOpenedLast6Months               105202 non-null float64\n",
            "DebtToIncomeRatio                     104272 non-null float64\n",
            "IncomeRange                           112726 non-null object\n",
            "IncomeVerifiable                      112726 non-null bool\n",
            "StatedMonthlyIncome                   112726 non-null float64\n",
            "LoanCurrentDaysDelinquent             112726 non-null int64\n",
            "LoanMonthsSinceOrigination            112726 non-null int64\n",
            "LoanOriginalAmount                    112726 non-null int64\n",
            "MonthlyLoanPayment                    112726 non-null float64\n",
            "PercentFunded                         112726 non-null float64\n",
            "Recommendations                       112726 non-null int64\n",
            "InvestmentFromFriendsCount            112726 non-null int64\n",
            "InvestmentFromFriendsAmount           112726 non-null float64\n",
            "dtypes: bool(3), float64(27), int64(9), object(5)\n",
            "memory usage: 36.4+ MB\n"
          ],
          "name": "stdout"
        }
      ]
    },
    {
      "cell_type": "code",
      "metadata": {
        "id": "dM2RcdrW6uTJ",
        "colab_type": "code",
        "colab": {},
        "outputId": "742771b7-ae77-41bd-832b-bd780c173e9d"
      },
      "source": [
        "data1.drop(['BorrowerState'], axis=1, inplace=True)"
      ],
      "execution_count": null,
      "outputs": [
        {
          "output_type": "stream",
          "text": [
            "/anaconda/lib/python3.6/site-packages/ipykernel_launcher.py:1: SettingWithCopyWarning: \n",
            "A value is trying to be set on a copy of a slice from a DataFrame\n",
            "\n",
            "See the caveats in the documentation: http://pandas.pydata.org/pandas-docs/stable/indexing.html#indexing-view-versus-copy\n",
            "  \"\"\"Entry point for launching an IPython kernel.\n"
          ],
          "name": "stderr"
        }
      ]
    },
    {
      "cell_type": "markdown",
      "metadata": {
        "id": "xfDIEODT6uTL",
        "colab_type": "text"
      },
      "source": [
        "# Data Preprocessing"
      ]
    },
    {
      "cell_type": "code",
      "metadata": {
        "id": "62tuSje76uTM",
        "colab_type": "code",
        "colab": {}
      },
      "source": [
        "dummies = ['Occupation', 'EmploymentStatus', 'IncomeRange']\n",
        "df_dummies = pd.get_dummies(data1,columns = dummies)"
      ],
      "execution_count": null,
      "outputs": []
    },
    {
      "cell_type": "code",
      "metadata": {
        "id": "xMVfO67N6uTP",
        "colab_type": "code",
        "colab": {}
      },
      "source": [
        "df_dummies.drop(['EstimatedEffectiveYield','EstimatedLoss','EstimatedReturn','ProsperRating (numeric)','ProsperScore'], axis=1, inplace=True)"
      ],
      "execution_count": null,
      "outputs": []
    },
    {
      "cell_type": "code",
      "metadata": {
        "id": "quVazwDQ6uTS",
        "colab_type": "code",
        "colab": {}
      },
      "source": [
        "df_dummies.dropna(axis=0, how='any', thresh=None, subset=None, inplace=True)"
      ],
      "execution_count": null,
      "outputs": []
    },
    {
      "cell_type": "code",
      "metadata": {
        "scrolled": false,
        "id": "YJntqag16uTU",
        "colab_type": "code",
        "colab": {},
        "outputId": "96ce1895-2b7e-459c-e16b-cc5dce1aaf9d"
      },
      "source": [
        "df_dummies['Grade'].value_counts()"
      ],
      "execution_count": null,
      "outputs": [
        {
          "output_type": "execute_result",
          "data": {
            "text/plain": [
              "C     20972\n",
              "B     17723\n",
              "D     16479\n",
              "A     16030\n",
              "E     10301\n",
              "AA     7661\n",
              "HR     7509\n",
              "Name: Grade, dtype: int64"
            ]
          },
          "metadata": {
            "tags": []
          },
          "execution_count": 11
        }
      ]
    },
    {
      "cell_type": "code",
      "metadata": {
        "id": "GiFVjegB6uTX",
        "colab_type": "code",
        "colab": {}
      },
      "source": [
        "df_dummies.info()"
      ],
      "execution_count": null,
      "outputs": []
    },
    {
      "cell_type": "markdown",
      "metadata": {
        "id": "FV8p6W5z6uTb",
        "colab_type": "text"
      },
      "source": [
        "Subsampling"
      ]
    },
    {
      "cell_type": "code",
      "metadata": {
        "id": "3HY9FMXY6uTb",
        "colab_type": "code",
        "colab": {}
      },
      "source": [
        "d1 = df_dummies.loc[df_dummies['Grade']=='AA']\n",
        "d2 = df_dummies.loc[df_dummies['Grade']=='A']\n",
        "d3 = df_dummies.loc[df_dummies['Grade']=='B']\n",
        "d4 = df_dummies.loc[df_dummies['Grade']=='C']\n",
        "d5 = df_dummies.loc[df_dummies['Grade']=='D']\n",
        "d6 = df_dummies.loc[df_dummies['Grade']=='E']\n",
        "d7 = df_dummies.loc[df_dummies['Grade']=='HR']\n",
        "d1 = d1.sample(7661)\n",
        "d2 = d2.sample(7661)\n",
        "d3 = d3.sample(7661)\n",
        "d4 = d4.sample(5746)\n",
        "d5 = d5.sample(5745)\n",
        "d6 = d6.sample(5746)\n",
        "d7 = d7.sample(5745)"
      ],
      "execution_count": null,
      "outputs": []
    },
    {
      "cell_type": "code",
      "metadata": {
        "id": "eo5UFTOi6uTe",
        "colab_type": "code",
        "colab": {}
      },
      "source": [
        "df_dummies = pd.concat([d1,d2,d3,d4,d5,d6,d7],axis=0)"
      ],
      "execution_count": null,
      "outputs": []
    },
    {
      "cell_type": "code",
      "metadata": {
        "id": "UQKlXR576uTg",
        "colab_type": "code",
        "colab": {},
        "outputId": "370fe97c-3648-4713-c93e-8e23a6b42e1b"
      },
      "source": [
        "df_dummies.info"
      ],
      "execution_count": null,
      "outputs": [
        {
          "output_type": "execute_result",
          "data": {
            "text/plain": [
              "<bound method DataFrame.info of         Term Grade  ListingCategory (numeric)  EmploymentStatusDuration  \\\n",
              "49312     36    AA                          3                       6.0   \n",
              "28180     60    AA                          1                      57.0   \n",
              "2329      36    AA                          3                     119.0   \n",
              "40591     36    AA                          1                      45.0   \n",
              "112590    36    AA                          1                     100.0   \n",
              "110120    60    AA                          1                      67.0   \n",
              "102113    60    AA                          1                      51.0   \n",
              "23241     36    AA                          0                       9.0   \n",
              "44685     36    AA                          1                      33.0   \n",
              "54470     36    AA                          3                     134.0   \n",
              "58119     36    AA                          3                     123.0   \n",
              "38284     36    AA                          7                     124.0   \n",
              "98520     36    AA                          1                     169.0   \n",
              "4878      36    AA                          3                     124.0   \n",
              "14416     36    AA                          1                      71.0   \n",
              "36199     36    AA                          1                     112.0   \n",
              "22697     60    AA                          1                      49.0   \n",
              "107879    36    AA                          1                       3.0   \n",
              "55902     36    AA                         14                     267.0   \n",
              "51945     60    AA                          2                      93.0   \n",
              "3482      36    AA                          1                      94.0   \n",
              "54298     36    AA                          1                     193.0   \n",
              "26561     36    AA                          1                     118.0   \n",
              "49995     36    AA                          1                      29.0   \n",
              "84282     60    AA                          1                      76.0   \n",
              "39776     36    AA                          0                       5.0   \n",
              "76050     36    AA                          7                      92.0   \n",
              "41175     36    AA                          1                     160.0   \n",
              "62002     36    AA                          1                      85.0   \n",
              "58342     36    AA                          5                      31.0   \n",
              "...      ...   ...                        ...                       ...   \n",
              "17394     36    HR                          1                     140.0   \n",
              "57694     36    HR                         10                     384.0   \n",
              "11842     36    HR                          1                      44.0   \n",
              "99341     36    HR                         13                     497.0   \n",
              "97494     36    HR                         15                      73.0   \n",
              "101926    36    HR                          1                      45.0   \n",
              "18768     36    HR                         13                       1.0   \n",
              "50394     36    HR                          1                     100.0   \n",
              "21280     36    HR                          0                      38.0   \n",
              "12473     36    HR                          7                     194.0   \n",
              "25204     36    HR                          1                      83.0   \n",
              "69286     36    HR                         13                     190.0   \n",
              "43000     36    HR                          1                      82.0   \n",
              "86599     36    HR                          7                     184.0   \n",
              "90910     36    HR                          0                       4.0   \n",
              "20369     36    HR                          1                     166.0   \n",
              "19389     36    HR                          6                      49.0   \n",
              "105350    36    HR                          1                      19.0   \n",
              "11198     36    HR                          5                       0.0   \n",
              "55542     36    HR                          1                      44.0   \n",
              "72737     36    HR                          1                      30.0   \n",
              "112970    36    HR                          1                     106.0   \n",
              "21741     36    HR                          1                     340.0   \n",
              "33336     36    HR                          1                      68.0   \n",
              "53952     36    HR                          0                       4.0   \n",
              "57747     36    HR                          1                     229.0   \n",
              "29814     36    HR                          7                      52.0   \n",
              "100428    36    HR                          7                     151.0   \n",
              "16702     36    HR                          2                      59.0   \n",
              "33834     36    HR                          4                      16.0   \n",
              "\n",
              "        IsBorrowerHomeowner  CurrentlyInGroup  CurrentCreditLines  \\\n",
              "49312                 False             False                 3.0   \n",
              "28180                  True             False                15.0   \n",
              "2329                   True             False                14.0   \n",
              "40591                 False             False                10.0   \n",
              "112590                False             False                 6.0   \n",
              "110120                 True             False                10.0   \n",
              "102113                 True             False                11.0   \n",
              "23241                  True             False                 5.0   \n",
              "44685                  True             False                 9.0   \n",
              "54470                  True             False                 9.0   \n",
              "58119                  True             False                13.0   \n",
              "38284                  True             False                 7.0   \n",
              "98520                  True             False                 6.0   \n",
              "4878                   True             False                28.0   \n",
              "14416                  True             False                11.0   \n",
              "36199                  True             False                 9.0   \n",
              "22697                  True             False                10.0   \n",
              "107879                 True             False                 8.0   \n",
              "55902                  True             False                14.0   \n",
              "51945                  True             False                 6.0   \n",
              "3482                  False             False                10.0   \n",
              "54298                  True             False                 8.0   \n",
              "26561                  True             False                 7.0   \n",
              "49995                  True             False                14.0   \n",
              "84282                  True             False                10.0   \n",
              "39776                  True              True                 7.0   \n",
              "76050                  True             False                12.0   \n",
              "41175                  True             False                12.0   \n",
              "62002                  True             False                 9.0   \n",
              "58342                 False             False                26.0   \n",
              "...                     ...               ...                 ...   \n",
              "17394                 False             False                 7.0   \n",
              "57694                 False             False                 7.0   \n",
              "11842                  True             False                14.0   \n",
              "99341                  True             False                 7.0   \n",
              "97494                 False             False                10.0   \n",
              "101926                False             False                12.0   \n",
              "18768                  True             False                19.0   \n",
              "50394                  True             False                10.0   \n",
              "21280                 False              True                 8.0   \n",
              "12473                  True             False                 5.0   \n",
              "25204                  True             False                 7.0   \n",
              "69286                  True             False                12.0   \n",
              "43000                 False              True                 5.0   \n",
              "86599                 False             False                 6.0   \n",
              "90910                 False              True                 1.0   \n",
              "20369                  True             False                12.0   \n",
              "19389                 False             False                 2.0   \n",
              "105350                False             False                10.0   \n",
              "11198                 False             False                 6.0   \n",
              "55542                  True             False                15.0   \n",
              "72737                  True             False                10.0   \n",
              "112970                False             False                 4.0   \n",
              "21741                  True              True                20.0   \n",
              "33336                  True             False                10.0   \n",
              "53952                 False             False                 1.0   \n",
              "57747                  True             False                17.0   \n",
              "29814                 False             False                15.0   \n",
              "100428                False             False                 7.0   \n",
              "16702                 False             False                 3.0   \n",
              "33834                 False             False                 2.0   \n",
              "\n",
              "        OpenCreditLines  TotalCreditLinespast7years  OpenRevolvingAccounts  \\\n",
              "49312               3.0                         4.0                      2   \n",
              "28180              13.0                        34.0                     10   \n",
              "2329               12.0                        43.0                      8   \n",
              "40591              10.0                        26.0                     10   \n",
              "112590              6.0                         9.0                      5   \n",
              "110120             10.0                        17.0                      7   \n",
              "102113             11.0                        36.0                      9   \n",
              "23241               4.0                        25.0                      3   \n",
              "44685               9.0                        21.0                      8   \n",
              "54470               9.0                        30.0                      7   \n",
              "58119              11.0                        59.0                      8   \n",
              "38284               7.0                        26.0                      4   \n",
              "98520               6.0                        22.0                      2   \n",
              "4878               23.0                        39.0                     21   \n",
              "14416              10.0                        31.0                      6   \n",
              "36199               9.0                        34.0                      5   \n",
              "22697              10.0                        29.0                      8   \n",
              "107879              8.0                        32.0                      9   \n",
              "55902              10.0                        31.0                      8   \n",
              "51945               6.0                         9.0                      5   \n",
              "3482               10.0                        20.0                     10   \n",
              "54298               6.0                        21.0                      3   \n",
              "26561               7.0                        18.0                      5   \n",
              "49995              14.0                        21.0                      9   \n",
              "84282              10.0                        24.0                      9   \n",
              "39776               7.0                        20.0                      7   \n",
              "76050              11.0                        55.0                      6   \n",
              "41175              11.0                        27.0                     11   \n",
              "62002               7.0                        25.0                      6   \n",
              "58342              26.0                        77.0                     20   \n",
              "...                 ...                         ...                    ...   \n",
              "17394               6.0                        24.0                      5   \n",
              "57694               7.0                        27.0                      5   \n",
              "11842              12.0                        19.0                      7   \n",
              "99341               7.0                        15.0                      6   \n",
              "97494              10.0                        26.0                      5   \n",
              "101926             11.0                        18.0                      7   \n",
              "18768              15.0                        48.0                      8   \n",
              "50394               8.0                        18.0                      4   \n",
              "21280               8.0                        12.0                      5   \n",
              "12473               5.0                        30.0                      1   \n",
              "25204               7.0                        25.0                      4   \n",
              "69286               9.0                        21.0                      3   \n",
              "43000               5.0                         9.0                      2   \n",
              "86599               4.0                        19.0                      2   \n",
              "90910               0.0                        42.0                      0   \n",
              "20369              11.0                        26.0                      8   \n",
              "19389               2.0                         3.0                      1   \n",
              "105350              9.0                        13.0                      3   \n",
              "11198               4.0                        14.0                      3   \n",
              "55542              16.0                        38.0                     16   \n",
              "72737              10.0                        26.0                      7   \n",
              "112970              2.0                        10.0                      2   \n",
              "21741              17.0                        48.0                     12   \n",
              "33336               9.0                        70.0                      6   \n",
              "53952               1.0                        14.0                      1   \n",
              "57747              16.0                        54.0                     10   \n",
              "29814              11.0                        31.0                     10   \n",
              "100428              7.0                        18.0                      6   \n",
              "16702               1.0                        14.0                      0   \n",
              "33834               0.0                         2.0                      0   \n",
              "\n",
              "                  ...             EmploymentStatus_Retired  \\\n",
              "49312             ...                                    0   \n",
              "28180             ...                                    0   \n",
              "2329              ...                                    0   \n",
              "40591             ...                                    0   \n",
              "112590            ...                                    0   \n",
              "110120            ...                                    0   \n",
              "102113            ...                                    0   \n",
              "23241             ...                                    0   \n",
              "44685             ...                                    0   \n",
              "54470             ...                                    0   \n",
              "58119             ...                                    0   \n",
              "38284             ...                                    0   \n",
              "98520             ...                                    0   \n",
              "4878              ...                                    0   \n",
              "14416             ...                                    0   \n",
              "36199             ...                                    0   \n",
              "22697             ...                                    0   \n",
              "107879            ...                                    0   \n",
              "55902             ...                                    0   \n",
              "51945             ...                                    0   \n",
              "3482              ...                                    0   \n",
              "54298             ...                                    0   \n",
              "26561             ...                                    0   \n",
              "49995             ...                                    0   \n",
              "84282             ...                                    0   \n",
              "39776             ...                                    0   \n",
              "76050             ...                                    0   \n",
              "41175             ...                                    0   \n",
              "62002             ...                                    0   \n",
              "58342             ...                                    0   \n",
              "...               ...                                  ...   \n",
              "17394             ...                                    0   \n",
              "57694             ...                                    0   \n",
              "11842             ...                                    0   \n",
              "99341             ...                                    0   \n",
              "97494             ...                                    0   \n",
              "101926            ...                                    0   \n",
              "18768             ...                                    0   \n",
              "50394             ...                                    0   \n",
              "21280             ...                                    0   \n",
              "12473             ...                                    0   \n",
              "25204             ...                                    0   \n",
              "69286             ...                                    0   \n",
              "43000             ...                                    0   \n",
              "86599             ...                                    0   \n",
              "90910             ...                                    0   \n",
              "20369             ...                                    0   \n",
              "19389             ...                                    0   \n",
              "105350            ...                                    0   \n",
              "11198             ...                                    0   \n",
              "55542             ...                                    0   \n",
              "72737             ...                                    0   \n",
              "112970            ...                                    0   \n",
              "21741             ...                                    0   \n",
              "33336             ...                                    0   \n",
              "53952             ...                                    0   \n",
              "57747             ...                                    0   \n",
              "29814             ...                                    0   \n",
              "100428            ...                                    0   \n",
              "16702             ...                                    0   \n",
              "33834             ...                                    0   \n",
              "\n",
              "        EmploymentStatus_Self-employed  IncomeRange_$0   \\\n",
              "49312                                0                0   \n",
              "28180                                0                0   \n",
              "2329                                 0                0   \n",
              "40591                                0                0   \n",
              "112590                               0                0   \n",
              "110120                               0                0   \n",
              "102113                               0                0   \n",
              "23241                                0                0   \n",
              "44685                                0                0   \n",
              "54470                                0                0   \n",
              "58119                                0                0   \n",
              "38284                                0                0   \n",
              "98520                                0                0   \n",
              "4878                                 0                0   \n",
              "14416                                0                0   \n",
              "36199                                0                0   \n",
              "22697                                0                0   \n",
              "107879                               0                0   \n",
              "55902                                0                0   \n",
              "51945                                0                0   \n",
              "3482                                 0                0   \n",
              "54298                                0                0   \n",
              "26561                                0                0   \n",
              "49995                                0                0   \n",
              "84282                                0                0   \n",
              "39776                                0                0   \n",
              "76050                                0                0   \n",
              "41175                                0                0   \n",
              "62002                                0                0   \n",
              "58342                                0                0   \n",
              "...                                ...              ...   \n",
              "17394                                0                0   \n",
              "57694                                0                0   \n",
              "11842                                0                0   \n",
              "99341                                0                0   \n",
              "97494                                0                0   \n",
              "101926                               0                0   \n",
              "18768                                0                0   \n",
              "50394                                0                0   \n",
              "21280                                0                0   \n",
              "12473                                0                0   \n",
              "25204                                0                0   \n",
              "69286                                0                0   \n",
              "43000                                0                0   \n",
              "86599                                0                0   \n",
              "90910                                0                0   \n",
              "20369                                0                0   \n",
              "19389                                0                0   \n",
              "105350                               0                0   \n",
              "11198                                0                0   \n",
              "55542                                0                0   \n",
              "72737                                0                0   \n",
              "112970                               0                0   \n",
              "21741                                0                0   \n",
              "33336                                0                0   \n",
              "53952                                0                0   \n",
              "57747                                0                0   \n",
              "29814                                0                0   \n",
              "100428                               0                0   \n",
              "16702                                0                0   \n",
              "33834                                0                0   \n",
              "\n",
              "        IncomeRange_$1-24,999  IncomeRange_$100,000+  \\\n",
              "49312                       0                      0   \n",
              "28180                       0                      0   \n",
              "2329                        0                      1   \n",
              "40591                       0                      0   \n",
              "112590                      0                      0   \n",
              "110120                      0                      1   \n",
              "102113                      0                      1   \n",
              "23241                       0                      1   \n",
              "44685                       0                      0   \n",
              "54470                       0                      0   \n",
              "58119                       0                      1   \n",
              "38284                       0                      1   \n",
              "98520                       0                      1   \n",
              "4878                        0                      0   \n",
              "14416                       0                      1   \n",
              "36199                       0                      0   \n",
              "22697                       0                      0   \n",
              "107879                      1                      0   \n",
              "55902                       0                      0   \n",
              "51945                       0                      0   \n",
              "3482                        0                      0   \n",
              "54298                       0                      0   \n",
              "26561                       0                      0   \n",
              "49995                       0                      0   \n",
              "84282                       0                      0   \n",
              "39776                       0                      0   \n",
              "76050                       0                      0   \n",
              "41175                       0                      1   \n",
              "62002                       0                      1   \n",
              "58342                       0                      0   \n",
              "...                       ...                    ...   \n",
              "17394                       0                      0   \n",
              "57694                       0                      0   \n",
              "11842                       0                      0   \n",
              "99341                       0                      0   \n",
              "97494                       0                      0   \n",
              "101926                      0                      0   \n",
              "18768                       0                      0   \n",
              "50394                       0                      0   \n",
              "21280                       0                      0   \n",
              "12473                       0                      0   \n",
              "25204                       0                      0   \n",
              "69286                       0                      0   \n",
              "43000                       0                      0   \n",
              "86599                       0                      0   \n",
              "90910                       0                      0   \n",
              "20369                       0                      1   \n",
              "19389                       0                      0   \n",
              "105350                      0                      0   \n",
              "11198                       1                      0   \n",
              "55542                       0                      1   \n",
              "72737                       0                      1   \n",
              "112970                      0                      0   \n",
              "21741                       0                      1   \n",
              "33336                       0                      0   \n",
              "53952                       0                      0   \n",
              "57747                       0                      0   \n",
              "29814                       0                      0   \n",
              "100428                      0                      0   \n",
              "16702                       1                      0   \n",
              "33834                       1                      0   \n",
              "\n",
              "        IncomeRange_$25,000-49,999  IncomeRange_$50,000-74,999  \\\n",
              "49312                            1                           0   \n",
              "28180                            0                           0   \n",
              "2329                             0                           0   \n",
              "40591                            0                           0   \n",
              "112590                           0                           1   \n",
              "110120                           0                           0   \n",
              "102113                           0                           0   \n",
              "23241                            0                           0   \n",
              "44685                            0                           1   \n",
              "54470                            0                           1   \n",
              "58119                            0                           0   \n",
              "38284                            0                           0   \n",
              "98520                            0                           0   \n",
              "4878                             0                           1   \n",
              "14416                            0                           0   \n",
              "36199                            0                           1   \n",
              "22697                            0                           0   \n",
              "107879                           0                           0   \n",
              "55902                            0                           0   \n",
              "51945                            0                           1   \n",
              "3482                             0                           1   \n",
              "54298                            0                           1   \n",
              "26561                            0                           1   \n",
              "49995                            1                           0   \n",
              "84282                            0                           1   \n",
              "39776                            1                           0   \n",
              "76050                            0                           1   \n",
              "41175                            0                           0   \n",
              "62002                            0                           0   \n",
              "58342                            0                           1   \n",
              "...                            ...                         ...   \n",
              "17394                            1                           0   \n",
              "57694                            0                           0   \n",
              "11842                            1                           0   \n",
              "99341                            1                           0   \n",
              "97494                            1                           0   \n",
              "101926                           1                           0   \n",
              "18768                            0                           1   \n",
              "50394                            0                           0   \n",
              "21280                            1                           0   \n",
              "12473                            0                           1   \n",
              "25204                            1                           0   \n",
              "69286                            1                           0   \n",
              "43000                            1                           0   \n",
              "86599                            1                           0   \n",
              "90910                            1                           0   \n",
              "20369                            0                           0   \n",
              "19389                            1                           0   \n",
              "105350                           1                           0   \n",
              "11198                            0                           0   \n",
              "55542                            0                           0   \n",
              "72737                            0                           0   \n",
              "112970                           0                           1   \n",
              "21741                            0                           0   \n",
              "33336                            0                           1   \n",
              "53952                            1                           0   \n",
              "57747                            0                           1   \n",
              "29814                            1                           0   \n",
              "100428                           1                           0   \n",
              "16702                            0                           0   \n",
              "33834                            0                           0   \n",
              "\n",
              "        IncomeRange_$75,000-99,999  IncomeRange_Not displayed  \\\n",
              "49312                            0                          0   \n",
              "28180                            1                          0   \n",
              "2329                             0                          0   \n",
              "40591                            1                          0   \n",
              "112590                           0                          0   \n",
              "110120                           0                          0   \n",
              "102113                           0                          0   \n",
              "23241                            0                          0   \n",
              "44685                            0                          0   \n",
              "54470                            0                          0   \n",
              "58119                            0                          0   \n",
              "38284                            0                          0   \n",
              "98520                            0                          0   \n",
              "4878                             0                          0   \n",
              "14416                            0                          0   \n",
              "36199                            0                          0   \n",
              "22697                            1                          0   \n",
              "107879                           0                          0   \n",
              "55902                            1                          0   \n",
              "51945                            0                          0   \n",
              "3482                             0                          0   \n",
              "54298                            0                          0   \n",
              "26561                            0                          0   \n",
              "49995                            0                          0   \n",
              "84282                            0                          0   \n",
              "39776                            0                          0   \n",
              "76050                            0                          0   \n",
              "41175                            0                          0   \n",
              "62002                            0                          0   \n",
              "58342                            0                          0   \n",
              "...                            ...                        ...   \n",
              "17394                            0                          0   \n",
              "57694                            1                          0   \n",
              "11842                            0                          0   \n",
              "99341                            0                          0   \n",
              "97494                            0                          0   \n",
              "101926                           0                          0   \n",
              "18768                            0                          0   \n",
              "50394                            1                          0   \n",
              "21280                            0                          0   \n",
              "12473                            0                          0   \n",
              "25204                            0                          0   \n",
              "69286                            0                          0   \n",
              "43000                            0                          0   \n",
              "86599                            0                          0   \n",
              "90910                            0                          0   \n",
              "20369                            0                          0   \n",
              "19389                            0                          0   \n",
              "105350                           0                          0   \n",
              "11198                            0                          0   \n",
              "55542                            0                          0   \n",
              "72737                            0                          0   \n",
              "112970                           0                          0   \n",
              "21741                            0                          0   \n",
              "33336                            0                          0   \n",
              "53952                            0                          0   \n",
              "57747                            0                          0   \n",
              "29814                            0                          0   \n",
              "100428                           0                          0   \n",
              "16702                            0                          0   \n",
              "33834                            0                          0   \n",
              "\n",
              "        IncomeRange_Not employed  \n",
              "49312                          0  \n",
              "28180                          0  \n",
              "2329                           0  \n",
              "40591                          0  \n",
              "112590                         0  \n",
              "110120                         0  \n",
              "102113                         0  \n",
              "23241                          0  \n",
              "44685                          0  \n",
              "54470                          0  \n",
              "58119                          0  \n",
              "38284                          0  \n",
              "98520                          0  \n",
              "4878                           0  \n",
              "14416                          0  \n",
              "36199                          0  \n",
              "22697                          0  \n",
              "107879                         0  \n",
              "55902                          0  \n",
              "51945                          0  \n",
              "3482                           0  \n",
              "54298                          0  \n",
              "26561                          0  \n",
              "49995                          0  \n",
              "84282                          0  \n",
              "39776                          0  \n",
              "76050                          0  \n",
              "41175                          0  \n",
              "62002                          0  \n",
              "58342                          0  \n",
              "...                          ...  \n",
              "17394                          0  \n",
              "57694                          0  \n",
              "11842                          0  \n",
              "99341                          0  \n",
              "97494                          0  \n",
              "101926                         0  \n",
              "18768                          0  \n",
              "50394                          0  \n",
              "21280                          0  \n",
              "12473                          0  \n",
              "25204                          0  \n",
              "69286                          0  \n",
              "43000                          0  \n",
              "86599                          0  \n",
              "90910                          0  \n",
              "20369                          0  \n",
              "19389                          0  \n",
              "105350                         0  \n",
              "11198                          0  \n",
              "55542                          0  \n",
              "72737                          0  \n",
              "112970                         0  \n",
              "21741                          0  \n",
              "33336                          0  \n",
              "53952                          0  \n",
              "57747                          0  \n",
              "29814                          0  \n",
              "100428                         0  \n",
              "16702                          0  \n",
              "33834                          0  \n",
              "\n",
              "[45965 rows x 118 columns]>"
            ]
          },
          "metadata": {
            "tags": []
          },
          "execution_count": 14
        }
      ]
    },
    {
      "cell_type": "code",
      "metadata": {
        "id": "fWXEkJXF6uTj",
        "colab_type": "code",
        "colab": {},
        "outputId": "f0044ae8-6d96-491a-cc48-be96d7ecb300"
      },
      "source": [
        "df_dummies.shape"
      ],
      "execution_count": null,
      "outputs": [
        {
          "output_type": "execute_result",
          "data": {
            "text/plain": [
              "(45965, 118)"
            ]
          },
          "metadata": {
            "tags": []
          },
          "execution_count": 15
        }
      ]
    },
    {
      "cell_type": "code",
      "metadata": {
        "id": "TMU0ulQ26uTm",
        "colab_type": "code",
        "colab": {}
      },
      "source": [
        "df_dummies=df_dummies.reset_index(drop=True)"
      ],
      "execution_count": null,
      "outputs": []
    },
    {
      "cell_type": "code",
      "metadata": {
        "id": "ab7R1W166uTr",
        "colab_type": "code",
        "colab": {},
        "outputId": "dd80d539-7c61-4bed-f409-86bf0c9f8cb3"
      },
      "source": [
        "def tran_risk_level(x):\n",
        "    if x==\"AA\" or x==\"A\" or x==\"B\":\n",
        "        return 0\n",
        "    else:\n",
        "        return 1\n",
        "df_d1=df_dummies\n",
        "df_d1[\"Grade\"]=df_d1[\"Grade\"].map(tran_risk_level)\n",
        "df_d1[\"Grade\"].value_counts()"
      ],
      "execution_count": null,
      "outputs": [
        {
          "output_type": "execute_result",
          "data": {
            "text/plain": [
              "0    22983\n",
              "1    22982\n",
              "Name: Grade, dtype: int64"
            ]
          },
          "metadata": {
            "tags": []
          },
          "execution_count": 17
        }
      ]
    },
    {
      "cell_type": "markdown",
      "metadata": {
        "id": "rU9UkV5k6uTt",
        "colab_type": "text"
      },
      "source": [
        "# Logistic Regression"
      ]
    },
    {
      "cell_type": "code",
      "metadata": {
        "scrolled": true,
        "id": "KGSn1tpl6uTu",
        "colab_type": "code",
        "colab": {},
        "outputId": "78ab7597-1ebf-4b21-dc2e-5d6e599f5d13"
      },
      "source": [
        "Y1 = df_d1.ix[:,1]\n",
        "X1 = df_d1\n",
        "X1 = X1.drop(['Grade'],axis=1,inplace=False)"
      ],
      "execution_count": null,
      "outputs": [
        {
          "output_type": "stream",
          "text": [
            "/anaconda/lib/python3.6/site-packages/ipykernel_launcher.py:1: DeprecationWarning: \n",
            ".ix is deprecated. Please use\n",
            ".loc for label based indexing or\n",
            ".iloc for positional indexing\n",
            "\n",
            "See the documentation here:\n",
            "http://pandas.pydata.org/pandas-docs/stable/indexing.html#deprecate_ix\n",
            "  \"\"\"Entry point for launching an IPython kernel.\n"
          ],
          "name": "stderr"
        }
      ]
    },
    {
      "cell_type": "code",
      "metadata": {
        "id": "oORKGcQ26uTw",
        "colab_type": "code",
        "colab": {},
        "outputId": "f95f2cee-be50-4c80-ae62-2e3007afdb07"
      },
      "source": [
        "from sklearn.model_selection import train_test_split\n",
        "X_train1, X_test1, Y_train1, Y_test1 = train_test_split(X1, Y1, test_size = .3, random_state=25)\n",
        "len(X_train1)"
      ],
      "execution_count": null,
      "outputs": [
        {
          "output_type": "execute_result",
          "data": {
            "text/plain": [
              "32175"
            ]
          },
          "metadata": {
            "tags": []
          },
          "execution_count": 19
        }
      ]
    },
    {
      "cell_type": "code",
      "metadata": {
        "id": "jeBPx6E96uTy",
        "colab_type": "code",
        "colab": {},
        "outputId": "5630a63c-ae24-4037-c3f0-af212cbf4c14"
      },
      "source": [
        "import matplotlib.pyplot as plt\n",
        "from sklearn.model_selection import StratifiedKFold\n",
        "from sklearn.feature_selection import RFECV\n",
        "from sklearn.feature_selection import RFE\n",
        "from sklearn.linear_model import LogisticRegression\n",
        "from sklearn.cross_validation import train_test_split,cross_val_score\n",
        "\n",
        "LR = LogisticRegression()\n",
        "LR.fit(X_train1,Y_train1)\n",
        "scores=cross_val_score(LR,X_train1,Y_train1,cv=10)\n",
        "print (np.mean(scores))\n",
        "LR.score(X_test1, Y_test1)"
      ],
      "execution_count": null,
      "outputs": [
        {
          "output_type": "stream",
          "text": [
            "/anaconda/lib/python3.6/site-packages/sklearn/cross_validation.py:44: DeprecationWarning: This module was deprecated in version 0.18 in favor of the model_selection module into which all the refactored classes and functions are moved. Also note that the interface of the new CV iterators are different from that of this module. This module will be removed in 0.20.\n",
            "  \"This module will be removed in 0.20.\", DeprecationWarning)\n"
          ],
          "name": "stderr"
        },
        {
          "output_type": "stream",
          "text": [
            "0.820015823309\n"
          ],
          "name": "stdout"
        },
        {
          "output_type": "execute_result",
          "data": {
            "text/plain": [
              "0.81472081218274117"
            ]
          },
          "metadata": {
            "tags": []
          },
          "execution_count": 20
        }
      ]
    },
    {
      "cell_type": "code",
      "metadata": {
        "scrolled": true,
        "id": "kaWY-16M6uT1",
        "colab_type": "code",
        "colab": {},
        "outputId": "3001e8e7-56df-4cca-b4d9-add4570829e6"
      },
      "source": [
        "coef = LR.coef_[0]\n",
        "coef =list(coef)\n",
        "for i in range(len(coef)):\n",
        "    coef[i]=abs(coef[i])\n",
        "coef_name = list(X_test1.columns)\n",
        "coef_data = {'name':coef_name, 'value':coef}\n",
        "df_coef = pd.DataFrame(coef_data)\n",
        "df_coef = df_coef.sort_index(axis = 0,ascending = False,by = 'value')\n",
        "print(df_coef)"
      ],
      "execution_count": null,
      "outputs": [
        {
          "output_type": "stream",
          "text": [
            "                                       name     value\n",
            "10                     InquiriesLast6Months  0.081083\n",
            "11                           TotalInquiries  0.076286\n",
            "0                                      Term  0.062247\n",
            "22                  TradesOpenedLast6Months  0.056438\n",
            "12                     CurrentDelinquencies  0.051969\n",
            "20                              TotalTrades  0.027325\n",
            "1                 ListingCategory (numeric)  0.024425\n",
            "3                       IsBorrowerHomeowner  0.022442\n",
            "21       TradesNeverDelinquent (percentage)  0.021798\n",
            "14                  DelinquenciesLast7Years  0.021673\n",
            "27               LoanMonthsSinceOrigination  0.017108\n",
            "29                       MonthlyLoanPayment  0.014297\n",
            "30                            PercentFunded  0.012720\n",
            "24                         IncomeVerifiable  0.012116\n",
            "18                      BankcardUtilization  0.011360\n",
            "15                 PublicRecordsLast10Years  0.010905\n",
            "7                TotalCreditLinespast7years  0.010575\n",
            "113              IncomeRange_$50,000-74,999  0.007516\n",
            "101               EmploymentStatus_Employed  0.005500\n",
            "23                        DebtToIncomeRatio  0.005209\n",
            "4                          CurrentlyInGroup  0.004993\n",
            "112              IncomeRange_$25,000-49,999  0.004925\n",
            "102              EmploymentStatus_Full-time  0.004855\n",
            "8                     OpenRevolvingAccounts  0.004129\n",
            "6                           OpenCreditLines  0.004128\n",
            "69                         Occupation_Other  0.003695\n",
            "114              IncomeRange_$75,000-99,999  0.003633\n",
            "46           Occupation_Computer Programmer  0.002804\n",
            "35      Occupation_Administrative Assistant  0.002238\n",
            "36                       Occupation_Analyst  0.002035\n",
            "..                                      ...       ...\n",
            "59                      Occupation_Investor  0.000108\n",
            "40                    Occupation_Bus Driver  0.000106\n",
            "25                      StatedMonthlyIncome  0.000105\n",
            "90   Occupation_Student - College Sophomore  0.000101\n",
            "44                        Occupation_Clergy  0.000098\n",
            "105                  EmploymentStatus_Other  0.000091\n",
            "48                       Occupation_Dentist  0.000085\n",
            "19                  AvailableBankcardCredit  0.000078\n",
            "74                     Occupation_Principal  0.000077\n",
            "104           EmploymentStatus_Not employed  0.000069\n",
            "37                     Occupation_Architect  0.000066\n",
            "39                     Occupation_Biologist  0.000064\n",
            "49                        Occupation_Doctor  0.000059\n",
            "89      Occupation_Student - College Senior  0.000054\n",
            "96       Occupation_Tradesman - Electrician  0.000047\n",
            "41                    Occupation_Car Dealer  0.000032\n",
            "86    Occupation_Student - College Freshman  0.000031\n",
            "88      Occupation_Student - College Junior  0.000027\n",
            "92    Occupation_Student - Technical School  0.000025\n",
            "58                     Occupation_Homemaker  0.000022\n",
            "91   Occupation_Student - Community College  0.000019\n",
            "31                          Recommendations  0.000018\n",
            "53                     Occupation_Executive  0.000015\n",
            "60                         Occupation_Judge  0.000011\n",
            "42                       Occupation_Chemist  0.000010\n",
            "13                         AmountDelinquent  0.000007\n",
            "116                IncomeRange_Not employed  0.000004\n",
            "17                   RevolvingCreditBalance  0.000002\n",
            "103          EmploymentStatus_Not available  0.000000\n",
            "109                         IncomeRange_$0   0.000000\n",
            "\n",
            "[117 rows x 2 columns]\n"
          ],
          "name": "stdout"
        },
        {
          "output_type": "stream",
          "text": [
            "/anaconda/lib/python3.6/site-packages/ipykernel_launcher.py:8: FutureWarning: by argument to sort_index is deprecated, pls use .sort_values(by=...)\n",
            "  \n"
          ],
          "name": "stderr"
        }
      ]
    },
    {
      "cell_type": "code",
      "metadata": {
        "scrolled": true,
        "id": "DF4-22-o6uT3",
        "colab_type": "code",
        "colab": {},
        "outputId": "b5e3f7cc-d4e9-452a-c4db-4fc7298ec512"
      },
      "source": [
        "plt.plot(LR.coef_[0])"
      ],
      "execution_count": null,
      "outputs": [
        {
          "output_type": "execute_result",
          "data": {
            "text/plain": [
              "[<matplotlib.lines.Line2D at 0x12ac86ac8>]"
            ]
          },
          "metadata": {
            "tags": []
          },
          "execution_count": 22
        },
        {
          "output_type": "display_data",
          "data": {
            "image/png": "[encoded data removed]",
            "text/plain": [
              "<matplotlib.figure.Figure at 0x127483630>"
            ]
          },
          "metadata": {
            "tags": []
          }
        }
      ]
    },
    {
      "cell_type": "markdown",
      "metadata": {
        "id": "OOOA7mA06uT5",
        "colab_type": "text"
      },
      "source": [
        "subset selection"
      ]
    },
    {
      "cell_type": "code",
      "metadata": {
        "id": "Q5haQYMe6uT6",
        "colab_type": "code",
        "colab": {}
      },
      "source": [
        "df_d21 = df_d1.ix[:,:40]\n",
        "df_d22 = df_d1.ix[:,90:116]\n",
        "df_d2 = pd.concat([df_d21,df_d22],axis=1)"
      ],
      "execution_count": null,
      "outputs": []
    },
    {
      "cell_type": "code",
      "metadata": {
        "id": "9Hon8Ffi6uT8",
        "colab_type": "code",
        "colab": {},
        "outputId": "19eab823-f7e6-4fe5-8ba5-7920c9ffefcd"
      },
      "source": [
        "df_d2.info()"
      ],
      "execution_count": null,
      "outputs": [
        {
          "output_type": "stream",
          "text": [
            "<class 'pandas.core.frame.DataFrame'>\n",
            "RangeIndex: 45965 entries, 0 to 45964\n",
            "Data columns (total 66 columns):\n",
            "Term                                      45965 non-null int64\n",
            "Grade                                     45965 non-null int64\n",
            "ListingCategory (numeric)                 45965 non-null int64\n",
            "EmploymentStatusDuration                  45965 non-null float64\n",
            "IsBorrowerHomeowner                       45965 non-null bool\n",
            "CurrentlyInGroup                          45965 non-null bool\n",
            "CurrentCreditLines                        45965 non-null float64\n",
            "OpenCreditLines                           45965 non-null float64\n",
            "TotalCreditLinespast7years                45965 non-null float64\n",
            "OpenRevolvingAccounts                     45965 non-null int64\n",
            "OpenRevolvingMonthlyPayment               45965 non-null int64\n",
            "InquiriesLast6Months                      45965 non-null float64\n",
            "TotalInquiries                            45965 non-null float64\n",
            "CurrentDelinquencies                      45965 non-null float64\n",
            "AmountDelinquent                          45965 non-null float64\n",
            "DelinquenciesLast7Years                   45965 non-null float64\n",
            "PublicRecordsLast10Years                  45965 non-null float64\n",
            "PublicRecordsLast12Months                 45965 non-null float64\n",
            "RevolvingCreditBalance                    45965 non-null float64\n",
            "BankcardUtilization                       45965 non-null float64\n",
            "AvailableBankcardCredit                   45965 non-null float64\n",
            "TotalTrades                               45965 non-null float64\n",
            "TradesNeverDelinquent (percentage)        45965 non-null float64\n",
            "TradesOpenedLast6Months                   45965 non-null float64\n",
            "DebtToIncomeRatio                         45965 non-null float64\n",
            "IncomeVerifiable                          45965 non-null bool\n",
            "StatedMonthlyIncome                       45965 non-null float64\n",
            "LoanCurrentDaysDelinquent                 45965 non-null int64\n",
            "LoanMonthsSinceOrigination                45965 non-null int64\n",
            "LoanOriginalAmount                        45965 non-null int64\n",
            "MonthlyLoanPayment                        45965 non-null float64\n",
            "PercentFunded                             45965 non-null float64\n",
            "Recommendations                           45965 non-null int64\n",
            "InvestmentFromFriendsCount                45965 non-null int64\n",
            "InvestmentFromFriendsAmount               45965 non-null float64\n",
            "Occupation_Accountant/CPA                 45965 non-null uint8\n",
            "Occupation_Administrative Assistant       45965 non-null uint8\n",
            "Occupation_Analyst                        45965 non-null uint8\n",
            "Occupation_Architect                      45965 non-null uint8\n",
            "Occupation_Attorney                       45965 non-null uint8\n",
            "Occupation_Student - College Senior       45965 non-null uint8\n",
            "Occupation_Student - College Sophomore    45965 non-null uint8\n",
            "Occupation_Student - Community College    45965 non-null uint8\n",
            "Occupation_Student - Technical School     45965 non-null uint8\n",
            "Occupation_Teacher                        45965 non-null uint8\n",
            "Occupation_Teacher's Aide                 45965 non-null uint8\n",
            "Occupation_Tradesman - Carpenter          45965 non-null uint8\n",
            "Occupation_Tradesman - Electrician        45965 non-null uint8\n",
            "Occupation_Tradesman - Mechanic           45965 non-null uint8\n",
            "Occupation_Tradesman - Plumber            45965 non-null uint8\n",
            "Occupation_Truck Driver                   45965 non-null uint8\n",
            "Occupation_Waiter/Waitress                45965 non-null uint8\n",
            "EmploymentStatus_Employed                 45965 non-null uint8\n",
            "EmploymentStatus_Full-time                45965 non-null uint8\n",
            "EmploymentStatus_Not available            45965 non-null uint8\n",
            "EmploymentStatus_Not employed             45965 non-null uint8\n",
            "EmploymentStatus_Other                    45965 non-null uint8\n",
            "EmploymentStatus_Part-time                45965 non-null uint8\n",
            "EmploymentStatus_Retired                  45965 non-null uint8\n",
            "EmploymentStatus_Self-employed            45965 non-null uint8\n",
            "IncomeRange_$0                            45965 non-null uint8\n",
            "IncomeRange_$1-24,999                     45965 non-null uint8\n",
            "IncomeRange_$100,000+                     45965 non-null uint8\n",
            "IncomeRange_$25,000-49,999                45965 non-null uint8\n",
            "IncomeRange_$50,000-74,999                45965 non-null uint8\n",
            "IncomeRange_$75,000-99,999                45965 non-null uint8\n",
            "dtypes: bool(3), float64(22), int64(10), uint8(31)\n",
            "memory usage: 12.7 MB\n"
          ],
          "name": "stdout"
        }
      ]
    },
    {
      "cell_type": "code",
      "metadata": {
        "id": "lj6M_4JF6uT-",
        "colab_type": "code",
        "colab": {},
        "outputId": "ca93d3d0-0a9c-4b3e-c341-3ea52a2d15f6"
      },
      "source": [
        "Y1 = df_d2.ix[:,1]\n",
        "X1 = df_d2\n",
        "X1 = X1.drop(['Grade'],axis=1,inplace=False)\n",
        "from sklearn.model_selection import train_test_split\n",
        "X_train1, X_test1, Y_train1, Y_test1 = train_test_split(X1, Y1, test_size = .3, random_state=25)\n",
        "len(X_train1)\n",
        "LR = LogisticRegression()\n",
        "LR.fit(X_train1,Y_train1)\n",
        "scores=cross_val_score(LR,X_train1,Y_train1,cv=10)\n",
        "print (np.mean(scores))\n",
        "LR.score(X_test1, Y_test1)"
      ],
      "execution_count": null,
      "outputs": [
        {
          "output_type": "stream",
          "text": [
            "/anaconda/lib/python3.6/site-packages/ipykernel_launcher.py:1: DeprecationWarning: \n",
            ".ix is deprecated. Please use\n",
            ".loc for label based indexing or\n",
            ".iloc for positional indexing\n",
            "\n",
            "See the documentation here:\n",
            "http://pandas.pydata.org/pandas-docs/stable/indexing.html#deprecate_ix\n",
            "  \"\"\"Entry point for launching an IPython kernel.\n"
          ],
          "name": "stderr"
        },
        {
          "output_type": "stream",
          "text": [
            "0.820295741577\n"
          ],
          "name": "stdout"
        },
        {
          "output_type": "execute_result",
          "data": {
            "text/plain": [
              "0.81443074691805661"
            ]
          },
          "metadata": {
            "tags": []
          },
          "execution_count": 25
        }
      ]
    },
    {
      "cell_type": "code",
      "metadata": {
        "scrolled": true,
        "id": "qNABXjOX6uUB",
        "colab_type": "code",
        "colab": {},
        "outputId": "d46aaff1-5bfc-47f4-f5a1-87860f4cd961"
      },
      "source": [
        "coef = LR.coef_[0]\n",
        "coef =list(coef)\n",
        "for i in range(len(coef)):\n",
        "    coef[i]=abs(coef[i])\n",
        "coef_name = list(X_test1.columns)\n",
        "coef_data = {'name':coef_name, 'value':coef}\n",
        "df_coef = pd.DataFrame(coef_data)\n",
        "df_coef = df_coef.sort_index(axis = 0,ascending = True,by = 'value')\n",
        "print(df_coef)"
      ],
      "execution_count": null,
      "outputs": [
        {
          "output_type": "stream",
          "text": [
            "                                      name     value\n",
            "59                         IncomeRange_$0   0.000000\n",
            "53          EmploymentStatus_Not available  0.000000\n",
            "17                  RevolvingCreditBalance  0.000001\n",
            "13                        AmountDelinquent  0.000007\n",
            "31                         Recommendations  0.000018\n",
            "41  Occupation_Student - Community College  0.000018\n",
            "42   Occupation_Student - Technical School  0.000024\n",
            "46      Occupation_Tradesman - Electrician  0.000045\n",
            "39     Occupation_Student - College Senior  0.000053\n",
            "37                    Occupation_Architect  0.000064\n",
            "54           EmploymentStatus_Not employed  0.000067\n",
            "19                 AvailableBankcardCredit  0.000078\n",
            "55                  EmploymentStatus_Other  0.000088\n",
            "40  Occupation_Student - College Sophomore  0.000098\n",
            "25                     StatedMonthlyIncome  0.000107\n",
            "48          Occupation_Tradesman - Plumber  0.000113\n",
            "44               Occupation_Teacher's Aide  0.000125\n",
            "38                     Occupation_Attorney  0.000147\n",
            "49                 Occupation_Truck Driver  0.000168\n",
            "33             InvestmentFromFriendsAmount  0.000210\n",
            "47         Occupation_Tradesman - Mechanic  0.000221\n",
            "45        Occupation_Tradesman - Carpenter  0.000222\n",
            "50              Occupation_Waiter/Waitress  0.000269\n",
            "26               LoanCurrentDaysDelinquent  0.000276\n",
            "56              EmploymentStatus_Part-time  0.000285\n",
            "57                EmploymentStatus_Retired  0.000572\n",
            "28                      LoanOriginalAmount  0.000631\n",
            "32              InvestmentFromFriendsCount  0.000670\n",
            "43                      Occupation_Teacher  0.000740\n",
            "5                       CurrentCreditLines  0.000783\n",
            "..                                     ...       ...\n",
            "16               PublicRecordsLast12Months  0.001836\n",
            "60                   IncomeRange_$1-24,999  0.001847\n",
            "36                      Occupation_Analyst  0.001958\n",
            "35     Occupation_Administrative Assistant  0.002159\n",
            "64              IncomeRange_$75,000-99,999  0.003488\n",
            "8                    OpenRevolvingAccounts  0.003842\n",
            "6                          OpenCreditLines  0.004227\n",
            "52              EmploymentStatus_Full-time  0.004696\n",
            "62              IncomeRange_$25,000-49,999  0.004746\n",
            "4                         CurrentlyInGroup  0.004829\n",
            "23                       DebtToIncomeRatio  0.005023\n",
            "51               EmploymentStatus_Employed  0.005266\n",
            "63              IncomeRange_$50,000-74,999  0.007219\n",
            "15                PublicRecordsLast10Years  0.010590\n",
            "18                     BankcardUtilization  0.010945\n",
            "24                        IncomeVerifiable  0.011664\n",
            "30                           PercentFunded  0.012244\n",
            "7               TotalCreditLinespast7years  0.012392\n",
            "29                      MonthlyLoanPayment  0.014447\n",
            "27              LoanMonthsSinceOrigination  0.018735\n",
            "21      TradesNeverDelinquent (percentage)  0.021005\n",
            "3                      IsBorrowerHomeowner  0.021585\n",
            "14                 DelinquenciesLast7Years  0.023351\n",
            "1                ListingCategory (numeric)  0.024683\n",
            "20                             TotalTrades  0.025034\n",
            "12                    CurrentDelinquencies  0.050208\n",
            "22                 TradesOpenedLast6Months  0.054555\n",
            "0                                     Term  0.061106\n",
            "11                          TotalInquiries  0.077687\n",
            "10                    InquiriesLast6Months  0.079195\n",
            "\n",
            "[65 rows x 2 columns]\n"
          ],
          "name": "stdout"
        },
        {
          "output_type": "stream",
          "text": [
            "/anaconda/lib/python3.6/site-packages/ipykernel_launcher.py:8: FutureWarning: by argument to sort_index is deprecated, pls use .sort_values(by=...)\n",
            "  \n"
          ],
          "name": "stderr"
        }
      ]
    },
    {
      "cell_type": "code",
      "metadata": {
        "id": "JYLiLNNc6uUD",
        "colab_type": "code",
        "colab": {}
      },
      "source": [
        "df_coef = df_coef.reset_index(drop=True)"
      ],
      "execution_count": null,
      "outputs": []
    },
    {
      "cell_type": "code",
      "metadata": {
        "id": "aMiPm0LN6uUG",
        "colab_type": "code",
        "colab": {},
        "outputId": "4b5e3d02-4c60-4da6-f675-760a0b134ce6"
      },
      "source": [
        "coef_name = list(df_coef.ix[:,0])\n",
        "coef_name[:30]"
      ],
      "execution_count": null,
      "outputs": [
        {
          "output_type": "stream",
          "text": [
            "/anaconda/lib/python3.6/site-packages/ipykernel_launcher.py:1: DeprecationWarning: \n",
            ".ix is deprecated. Please use\n",
            ".loc for label based indexing or\n",
            ".iloc for positional indexing\n",
            "\n",
            "See the documentation here:\n",
            "http://pandas.pydata.org/pandas-docs/stable/indexing.html#deprecate_ix\n",
            "  \"\"\"Entry point for launching an IPython kernel.\n"
          ],
          "name": "stderr"
        },
        {
          "output_type": "execute_result",
          "data": {
            "text/plain": [
              "['IncomeRange_$0 ',\n",
              " 'EmploymentStatus_Not available',\n",
              " 'RevolvingCreditBalance',\n",
              " 'AmountDelinquent',\n",
              " 'Recommendations',\n",
              " 'Occupation_Student - Community College',\n",
              " 'Occupation_Student - Technical School',\n",
              " 'Occupation_Tradesman - Electrician',\n",
              " 'Occupation_Student - College Senior',\n",
              " 'Occupation_Architect',\n",
              " 'EmploymentStatus_Not employed',\n",
              " 'AvailableBankcardCredit',\n",
              " 'EmploymentStatus_Other',\n",
              " 'Occupation_Student - College Sophomore',\n",
              " 'StatedMonthlyIncome',\n",
              " 'Occupation_Tradesman - Plumber',\n",
              " \"Occupation_Teacher's Aide\",\n",
              " 'Occupation_Attorney',\n",
              " 'Occupation_Truck Driver',\n",
              " 'InvestmentFromFriendsAmount',\n",
              " 'Occupation_Tradesman - Mechanic',\n",
              " 'Occupation_Tradesman - Carpenter',\n",
              " 'Occupation_Waiter/Waitress',\n",
              " 'LoanCurrentDaysDelinquent',\n",
              " 'EmploymentStatus_Part-time',\n",
              " 'EmploymentStatus_Retired',\n",
              " 'LoanOriginalAmount',\n",
              " 'InvestmentFromFriendsCount',\n",
              " 'Occupation_Teacher',\n",
              " 'CurrentCreditLines']"
            ]
          },
          "metadata": {
            "tags": []
          },
          "execution_count": 28
        }
      ]
    },
    {
      "cell_type": "code",
      "metadata": {
        "id": "L3fEswqk6uUI",
        "colab_type": "code",
        "colab": {},
        "outputId": "8b8e13fa-4392-469c-8921-f09532a55c26"
      },
      "source": [
        "drop = coef_name[:20]\n",
        "df_d3 = df_d2.drop(drop,axis=1,inplace=False)\n",
        "df_d3.head()"
      ],
      "execution_count": null,
      "outputs": [
        {
          "output_type": "execute_result",
          "data": {
            "text/html": [
              "<div>\n",
              "<style>\n",
              "    .dataframe thead tr:only-child th {\n",
              "        text-align: right;\n",
              "    }\n",
              "\n",
              "    .dataframe thead th {\n",
              "        text-align: left;\n",
              "    }\n",
              "\n",
              "    .dataframe tbody tr th {\n",
              "        vertical-align: top;\n",
              "    }\n",
              "</style>\n",
              "<table border=\"1\" class=\"dataframe\">\n",
              "  <thead>\n",
              "    <tr style=\"text-align: right;\">\n",
              "      <th></th>\n",
              "      <th>Term</th>\n",
              "      <th>Grade</th>\n",
              "      <th>ListingCategory (numeric)</th>\n",
              "      <th>EmploymentStatusDuration</th>\n",
              "      <th>IsBorrowerHomeowner</th>\n",
              "      <th>CurrentlyInGroup</th>\n",
              "      <th>CurrentCreditLines</th>\n",
              "      <th>OpenCreditLines</th>\n",
              "      <th>TotalCreditLinespast7years</th>\n",
              "      <th>OpenRevolvingAccounts</th>\n",
              "      <th>...</th>\n",
              "      <th>EmploymentStatus_Employed</th>\n",
              "      <th>EmploymentStatus_Full-time</th>\n",
              "      <th>EmploymentStatus_Part-time</th>\n",
              "      <th>EmploymentStatus_Retired</th>\n",
              "      <th>EmploymentStatus_Self-employed</th>\n",
              "      <th>IncomeRange_$1-24,999</th>\n",
              "      <th>IncomeRange_$100,000+</th>\n",
              "      <th>IncomeRange_$25,000-49,999</th>\n",
              "      <th>IncomeRange_$50,000-74,999</th>\n",
              "      <th>IncomeRange_$75,000-99,999</th>\n",
              "    </tr>\n",
              "  </thead>\n",
              "  <tbody>\n",
              "    <tr>\n",
              "      <th>0</th>\n",
              "      <td>36</td>\n",
              "      <td>0</td>\n",
              "      <td>3</td>\n",
              "      <td>6.0</td>\n",
              "      <td>False</td>\n",
              "      <td>False</td>\n",
              "      <td>3.0</td>\n",
              "      <td>3.0</td>\n",
              "      <td>4.0</td>\n",
              "      <td>2</td>\n",
              "      <td>...</td>\n",
              "      <td>0</td>\n",
              "      <td>1</td>\n",
              "      <td>0</td>\n",
              "      <td>0</td>\n",
              "      <td>0</td>\n",
              "      <td>0</td>\n",
              "      <td>0</td>\n",
              "      <td>1</td>\n",
              "      <td>0</td>\n",
              "      <td>0</td>\n",
              "    </tr>\n",
              "    <tr>\n",
              "      <th>1</th>\n",
              "      <td>60</td>\n",
              "      <td>0</td>\n",
              "      <td>1</td>\n",
              "      <td>57.0</td>\n",
              "      <td>True</td>\n",
              "      <td>False</td>\n",
              "      <td>15.0</td>\n",
              "      <td>13.0</td>\n",
              "      <td>34.0</td>\n",
              "      <td>10</td>\n",
              "      <td>...</td>\n",
              "      <td>1</td>\n",
              "      <td>0</td>\n",
              "      <td>0</td>\n",
              "      <td>0</td>\n",
              "      <td>0</td>\n",
              "      <td>0</td>\n",
              "      <td>0</td>\n",
              "      <td>0</td>\n",
              "      <td>0</td>\n",
              "      <td>1</td>\n",
              "    </tr>\n",
              "    <tr>\n",
              "      <th>2</th>\n",
              "      <td>36</td>\n",
              "      <td>0</td>\n",
              "      <td>3</td>\n",
              "      <td>119.0</td>\n",
              "      <td>True</td>\n",
              "      <td>False</td>\n",
              "      <td>14.0</td>\n",
              "      <td>12.0</td>\n",
              "      <td>43.0</td>\n",
              "      <td>8</td>\n",
              "      <td>...</td>\n",
              "      <td>0</td>\n",
              "      <td>1</td>\n",
              "      <td>0</td>\n",
              "      <td>0</td>\n",
              "      <td>0</td>\n",
              "      <td>0</td>\n",
              "      <td>1</td>\n",
              "      <td>0</td>\n",
              "      <td>0</td>\n",
              "      <td>0</td>\n",
              "    </tr>\n",
              "    <tr>\n",
              "      <th>3</th>\n",
              "      <td>36</td>\n",
              "      <td>0</td>\n",
              "      <td>1</td>\n",
              "      <td>45.0</td>\n",
              "      <td>False</td>\n",
              "      <td>False</td>\n",
              "      <td>10.0</td>\n",
              "      <td>10.0</td>\n",
              "      <td>26.0</td>\n",
              "      <td>10</td>\n",
              "      <td>...</td>\n",
              "      <td>1</td>\n",
              "      <td>0</td>\n",
              "      <td>0</td>\n",
              "      <td>0</td>\n",
              "      <td>0</td>\n",
              "      <td>0</td>\n",
              "      <td>0</td>\n",
              "      <td>0</td>\n",
              "      <td>0</td>\n",
              "      <td>1</td>\n",
              "    </tr>\n",
              "    <tr>\n",
              "      <th>4</th>\n",
              "      <td>36</td>\n",
              "      <td>0</td>\n",
              "      <td>1</td>\n",
              "      <td>100.0</td>\n",
              "      <td>False</td>\n",
              "      <td>False</td>\n",
              "      <td>6.0</td>\n",
              "      <td>6.0</td>\n",
              "      <td>9.0</td>\n",
              "      <td>5</td>\n",
              "      <td>...</td>\n",
              "      <td>1</td>\n",
              "      <td>0</td>\n",
              "      <td>0</td>\n",
              "      <td>0</td>\n",
              "      <td>0</td>\n",
              "      <td>0</td>\n",
              "      <td>0</td>\n",
              "      <td>0</td>\n",
              "      <td>1</td>\n",
              "      <td>0</td>\n",
              "    </tr>\n",
              "  </tbody>\n",
              "</table>\n",
              "<p>5 rows × 46 columns</p>\n",
              "</div>"
            ],
            "text/plain": [
              "   Term  Grade  ListingCategory (numeric)  EmploymentStatusDuration  \\\n",
              "0    36      0                          3                       6.0   \n",
              "1    60      0                          1                      57.0   \n",
              "2    36      0                          3                     119.0   \n",
              "3    36      0                          1                      45.0   \n",
              "4    36      0                          1                     100.0   \n",
              "\n",
              "   IsBorrowerHomeowner  CurrentlyInGroup  CurrentCreditLines  OpenCreditLines  \\\n",
              "0                False             False                 3.0              3.0   \n",
              "1                 True             False                15.0             13.0   \n",
              "2                 True             False                14.0             12.0   \n",
              "3                False             False                10.0             10.0   \n",
              "4                False             False                 6.0              6.0   \n",
              "\n",
              "   TotalCreditLinespast7years  OpenRevolvingAccounts  \\\n",
              "0                         4.0                      2   \n",
              "1                        34.0                     10   \n",
              "2                        43.0                      8   \n",
              "3                        26.0                     10   \n",
              "4                         9.0                      5   \n",
              "\n",
              "              ...              EmploymentStatus_Employed  \\\n",
              "0             ...                                      0   \n",
              "1             ...                                      1   \n",
              "2             ...                                      0   \n",
              "3             ...                                      1   \n",
              "4             ...                                      1   \n",
              "\n",
              "   EmploymentStatus_Full-time  EmploymentStatus_Part-time  \\\n",
              "0                           1                           0   \n",
              "1                           0                           0   \n",
              "2                           1                           0   \n",
              "3                           0                           0   \n",
              "4                           0                           0   \n",
              "\n",
              "   EmploymentStatus_Retired  EmploymentStatus_Self-employed  \\\n",
              "0                         0                               0   \n",
              "1                         0                               0   \n",
              "2                         0                               0   \n",
              "3                         0                               0   \n",
              "4                         0                               0   \n",
              "\n",
              "   IncomeRange_$1-24,999  IncomeRange_$100,000+  IncomeRange_$25,000-49,999  \\\n",
              "0                      0                      0                           1   \n",
              "1                      0                      0                           0   \n",
              "2                      0                      1                           0   \n",
              "3                      0                      0                           0   \n",
              "4                      0                      0                           0   \n",
              "\n",
              "   IncomeRange_$50,000-74,999  IncomeRange_$75,000-99,999  \n",
              "0                           0                           0  \n",
              "1                           0                           1  \n",
              "2                           0                           0  \n",
              "3                           0                           1  \n",
              "4                           1                           0  \n",
              "\n",
              "[5 rows x 46 columns]"
            ]
          },
          "metadata": {
            "tags": []
          },
          "execution_count": 29
        }
      ]
    },
    {
      "cell_type": "code",
      "metadata": {
        "id": "jAbznzTs6uUK",
        "colab_type": "code",
        "colab": {},
        "outputId": "a8ec5bc1-82c2-4005-8198-5f1e1b98cf2e"
      },
      "source": [
        "df_d3.shape"
      ],
      "execution_count": null,
      "outputs": [
        {
          "output_type": "execute_result",
          "data": {
            "text/plain": [
              "(45965, 46)"
            ]
          },
          "metadata": {
            "tags": []
          },
          "execution_count": 30
        }
      ]
    },
    {
      "cell_type": "code",
      "metadata": {
        "id": "B2YlLmOE6uUM",
        "colab_type": "code",
        "colab": {},
        "outputId": "cd1dae00-7358-4a3f-961e-013f4725aa2d"
      },
      "source": [
        "Y1 = df_d3.ix[:,1]\n",
        "X1 = df_d3\n",
        "X1 = X1.drop(['Grade'],axis=1,inplace=False)\n",
        "from sklearn.model_selection import train_test_split\n",
        "X_train1, X_test1, Y_train1, Y_test1 = train_test_split(X1, Y1, test_size = .3, random_state=25)\n",
        "len(X_train1)\n",
        "LR = LogisticRegression()\n",
        "LR.fit(X_train1,Y_train1)\n",
        "scores=cross_val_score(LR,X_train1,Y_train1,cv=10)\n",
        "print (np.mean(scores))\n",
        "LR.score(X_test1, Y_test1)"
      ],
      "execution_count": null,
      "outputs": [
        {
          "output_type": "stream",
          "text": [
            "0.840280980063\n"
          ],
          "name": "stdout"
        },
        {
          "output_type": "execute_result",
          "data": {
            "text/plain": [
              "0.83292240754169689"
            ]
          },
          "metadata": {
            "tags": []
          },
          "execution_count": 32
        }
      ]
    },
    {
      "cell_type": "code",
      "metadata": {
        "id": "ImA-_Xlo6uUP",
        "colab_type": "code",
        "colab": {},
        "outputId": "1c967d2a-41ea-4863-8e40-8176b0bdfd92"
      },
      "source": [
        "coef = LR.coef_[0]\n",
        "coef =list(coef)\n",
        "for i in range(len(coef)):\n",
        "    coef[i]=abs(coef[i])\n",
        "coef_name = list(X_test1.columns)\n",
        "coef_data = {'name':coef_name, 'value':coef}\n",
        "df_coef = pd.DataFrame(coef_data)\n",
        "df_coef = df_coef.sort_index(axis = 0,ascending = True,by = 'value')\n",
        "print(df_coef)"
      ],
      "execution_count": null,
      "outputs": [
        {
          "output_type": "stream",
          "text": [
            "                                   name     value\n",
            "22            LoanCurrentDaysDelinquent  0.000201\n",
            "2              EmploymentStatusDuration  0.000224\n",
            "9           OpenRevolvingMonthlyPayment  0.000536\n",
            "33      Occupation_Tradesman - Mechanic  0.000582\n",
            "24                   LoanOriginalAmount  0.000807\n",
            "5                    CurrentCreditLines  0.003784\n",
            "37           EmploymentStatus_Part-time  0.005393\n",
            "31                   Occupation_Teacher  0.009542\n",
            "32     Occupation_Tradesman - Carpenter  0.011265\n",
            "1             ListingCategory (numeric)  0.014394\n",
            "7            TotalCreditLinespast7years  0.017465\n",
            "23           LoanMonthsSinceOrigination  0.018112\n",
            "13              DelinquenciesLast7Years  0.018115\n",
            "25                   MonthlyLoanPayment  0.019852\n",
            "34           Occupation_Waiter/Waitress  0.022597\n",
            "38             EmploymentStatus_Retired  0.029503\n",
            "17                          TotalTrades  0.034664\n",
            "6                       OpenCreditLines  0.038491\n",
            "11                       TotalInquiries  0.049481\n",
            "15            PublicRecordsLast12Months  0.051409\n",
            "27           InvestmentFromFriendsCount  0.052367\n",
            "28            Occupation_Accountant/CPA  0.059461\n",
            "8                 OpenRevolvingAccounts  0.072534\n",
            "42           IncomeRange_$25,000-49,999  0.078481\n",
            "39       EmploymentStatus_Self-employed  0.095191\n",
            "0                                  Term  0.102396\n",
            "30                   Occupation_Analyst  0.110547\n",
            "10                 InquiriesLast6Months  0.134610\n",
            "4                      CurrentlyInGroup  0.138050\n",
            "29  Occupation_Administrative Assistant  0.140820\n",
            "43           IncomeRange_$50,000-74,999  0.143508\n",
            "14             PublicRecordsLast10Years  0.149695\n",
            "20                    DebtToIncomeRatio  0.167237\n",
            "36           EmploymentStatus_Full-time  0.200999\n",
            "40                IncomeRange_$1-24,999  0.213829\n",
            "19              TradesOpenedLast6Months  0.222432\n",
            "12                 CurrentDelinquencies  0.244421\n",
            "44           IncomeRange_$75,000-99,999  0.311921\n",
            "35            EmploymentStatus_Employed  0.338490\n",
            "41                IncomeRange_$100,000+  0.511292\n",
            "3                   IsBorrowerHomeowner  0.580515\n",
            "21                     IncomeVerifiable  0.639954\n",
            "26                        PercentFunded  0.695694\n",
            "18   TradesNeverDelinquent (percentage)  1.128741\n",
            "16                  BankcardUtilization  1.534239\n"
          ],
          "name": "stdout"
        },
        {
          "output_type": "stream",
          "text": [
            "/anaconda/lib/python3.6/site-packages/ipykernel_launcher.py:8: FutureWarning: by argument to sort_index is deprecated, pls use .sort_values(by=...)\n",
            "  \n"
          ],
          "name": "stderr"
        }
      ]
    },
    {
      "cell_type": "code",
      "metadata": {
        "scrolled": true,
        "id": "nUD8IOrd6uUR",
        "colab_type": "code",
        "colab": {},
        "outputId": "e7da02b3-20e1-4dfa-8d35-b348d464aaf9"
      },
      "source": [
        "df_coef = df_coef.reset_index(drop=True)\n",
        "coef_name = list(df_coef.ix[:,0])"
      ],
      "execution_count": null,
      "outputs": [
        {
          "output_type": "stream",
          "text": [
            "/anaconda/lib/python3.6/site-packages/ipykernel_launcher.py:2: DeprecationWarning: \n",
            ".ix is deprecated. Please use\n",
            ".loc for label based indexing or\n",
            ".iloc for positional indexing\n",
            "\n",
            "See the documentation here:\n",
            "http://pandas.pydata.org/pandas-docs/stable/indexing.html#deprecate_ix\n",
            "  \n"
          ],
          "name": "stderr"
        }
      ]
    },
    {
      "cell_type": "code",
      "metadata": {
        "id": "cqTEUCHb6uUT",
        "colab_type": "code",
        "colab": {},
        "outputId": "cc24d55a-be50-417a-ae14-e79e372f605f"
      },
      "source": [
        "drop = coef_name[:3]\n",
        "df_d4 = df_d3.drop(drop,axis=1,inplace=False)\n",
        "df_d4.shape"
      ],
      "execution_count": null,
      "outputs": [
        {
          "output_type": "execute_result",
          "data": {
            "text/plain": [
              "(45965, 43)"
            ]
          },
          "metadata": {
            "tags": []
          },
          "execution_count": 35
        }
      ]
    },
    {
      "cell_type": "code",
      "metadata": {
        "id": "M3PVYc7O6uUV",
        "colab_type": "code",
        "colab": {},
        "outputId": "13c7446d-3d35-4926-e27e-e193d3ba72e8"
      },
      "source": [
        "df_d4.head()"
      ],
      "execution_count": null,
      "outputs": [
        {
          "output_type": "execute_result",
          "data": {
            "text/html": [
              "<div>\n",
              "<style>\n",
              "    .dataframe thead tr:only-child th {\n",
              "        text-align: right;\n",
              "    }\n",
              "\n",
              "    .dataframe thead th {\n",
              "        text-align: left;\n",
              "    }\n",
              "\n",
              "    .dataframe tbody tr th {\n",
              "        vertical-align: top;\n",
              "    }\n",
              "</style>\n",
              "<table border=\"1\" class=\"dataframe\">\n",
              "  <thead>\n",
              "    <tr style=\"text-align: right;\">\n",
              "      <th></th>\n",
              "      <th>Term</th>\n",
              "      <th>Grade</th>\n",
              "      <th>ListingCategory (numeric)</th>\n",
              "      <th>IsBorrowerHomeowner</th>\n",
              "      <th>CurrentlyInGroup</th>\n",
              "      <th>CurrentCreditLines</th>\n",
              "      <th>OpenCreditLines</th>\n",
              "      <th>TotalCreditLinespast7years</th>\n",
              "      <th>OpenRevolvingAccounts</th>\n",
              "      <th>InquiriesLast6Months</th>\n",
              "      <th>...</th>\n",
              "      <th>EmploymentStatus_Employed</th>\n",
              "      <th>EmploymentStatus_Full-time</th>\n",
              "      <th>EmploymentStatus_Part-time</th>\n",
              "      <th>EmploymentStatus_Retired</th>\n",
              "      <th>EmploymentStatus_Self-employed</th>\n",
              "      <th>IncomeRange_$1-24,999</th>\n",
              "      <th>IncomeRange_$100,000+</th>\n",
              "      <th>IncomeRange_$25,000-49,999</th>\n",
              "      <th>IncomeRange_$50,000-74,999</th>\n",
              "      <th>IncomeRange_$75,000-99,999</th>\n",
              "    </tr>\n",
              "  </thead>\n",
              "  <tbody>\n",
              "    <tr>\n",
              "      <th>0</th>\n",
              "      <td>36</td>\n",
              "      <td>0</td>\n",
              "      <td>3</td>\n",
              "      <td>False</td>\n",
              "      <td>False</td>\n",
              "      <td>3.0</td>\n",
              "      <td>3.0</td>\n",
              "      <td>4.0</td>\n",
              "      <td>2</td>\n",
              "      <td>1.0</td>\n",
              "      <td>...</td>\n",
              "      <td>0</td>\n",
              "      <td>1</td>\n",
              "      <td>0</td>\n",
              "      <td>0</td>\n",
              "      <td>0</td>\n",
              "      <td>0</td>\n",
              "      <td>0</td>\n",
              "      <td>1</td>\n",
              "      <td>0</td>\n",
              "      <td>0</td>\n",
              "    </tr>\n",
              "    <tr>\n",
              "      <th>1</th>\n",
              "      <td>60</td>\n",
              "      <td>0</td>\n",
              "      <td>1</td>\n",
              "      <td>True</td>\n",
              "      <td>False</td>\n",
              "      <td>15.0</td>\n",
              "      <td>13.0</td>\n",
              "      <td>34.0</td>\n",
              "      <td>10</td>\n",
              "      <td>0.0</td>\n",
              "      <td>...</td>\n",
              "      <td>1</td>\n",
              "      <td>0</td>\n",
              "      <td>0</td>\n",
              "      <td>0</td>\n",
              "      <td>0</td>\n",
              "      <td>0</td>\n",
              "      <td>0</td>\n",
              "      <td>0</td>\n",
              "      <td>0</td>\n",
              "      <td>1</td>\n",
              "    </tr>\n",
              "    <tr>\n",
              "      <th>2</th>\n",
              "      <td>36</td>\n",
              "      <td>0</td>\n",
              "      <td>3</td>\n",
              "      <td>True</td>\n",
              "      <td>False</td>\n",
              "      <td>14.0</td>\n",
              "      <td>12.0</td>\n",
              "      <td>43.0</td>\n",
              "      <td>8</td>\n",
              "      <td>4.0</td>\n",
              "      <td>...</td>\n",
              "      <td>0</td>\n",
              "      <td>1</td>\n",
              "      <td>0</td>\n",
              "      <td>0</td>\n",
              "      <td>0</td>\n",
              "      <td>0</td>\n",
              "      <td>1</td>\n",
              "      <td>0</td>\n",
              "      <td>0</td>\n",
              "      <td>0</td>\n",
              "    </tr>\n",
              "    <tr>\n",
              "      <th>3</th>\n",
              "      <td>36</td>\n",
              "      <td>0</td>\n",
              "      <td>1</td>\n",
              "      <td>False</td>\n",
              "      <td>False</td>\n",
              "      <td>10.0</td>\n",
              "      <td>10.0</td>\n",
              "      <td>26.0</td>\n",
              "      <td>10</td>\n",
              "      <td>0.0</td>\n",
              "      <td>...</td>\n",
              "      <td>1</td>\n",
              "      <td>0</td>\n",
              "      <td>0</td>\n",
              "      <td>0</td>\n",
              "      <td>0</td>\n",
              "      <td>0</td>\n",
              "      <td>0</td>\n",
              "      <td>0</td>\n",
              "      <td>0</td>\n",
              "      <td>1</td>\n",
              "    </tr>\n",
              "    <tr>\n",
              "      <th>4</th>\n",
              "      <td>36</td>\n",
              "      <td>0</td>\n",
              "      <td>1</td>\n",
              "      <td>False</td>\n",
              "      <td>False</td>\n",
              "      <td>6.0</td>\n",
              "      <td>6.0</td>\n",
              "      <td>9.0</td>\n",
              "      <td>5</td>\n",
              "      <td>0.0</td>\n",
              "      <td>...</td>\n",
              "      <td>1</td>\n",
              "      <td>0</td>\n",
              "      <td>0</td>\n",
              "      <td>0</td>\n",
              "      <td>0</td>\n",
              "      <td>0</td>\n",
              "      <td>0</td>\n",
              "      <td>0</td>\n",
              "      <td>1</td>\n",
              "      <td>0</td>\n",
              "    </tr>\n",
              "  </tbody>\n",
              "</table>\n",
              "<p>5 rows × 43 columns</p>\n",
              "</div>"
            ],
            "text/plain": [
              "   Term  Grade  ListingCategory (numeric)  IsBorrowerHomeowner  \\\n",
              "0    36      0                          3                False   \n",
              "1    60      0                          1                 True   \n",
              "2    36      0                          3                 True   \n",
              "3    36      0                          1                False   \n",
              "4    36      0                          1                False   \n",
              "\n",
              "   CurrentlyInGroup  CurrentCreditLines  OpenCreditLines  \\\n",
              "0             False                 3.0              3.0   \n",
              "1             False                15.0             13.0   \n",
              "2             False                14.0             12.0   \n",
              "3             False                10.0             10.0   \n",
              "4             False                 6.0              6.0   \n",
              "\n",
              "   TotalCreditLinespast7years  OpenRevolvingAccounts  InquiriesLast6Months  \\\n",
              "0                         4.0                      2                   1.0   \n",
              "1                        34.0                     10                   0.0   \n",
              "2                        43.0                      8                   4.0   \n",
              "3                        26.0                     10                   0.0   \n",
              "4                         9.0                      5                   0.0   \n",
              "\n",
              "              ...              EmploymentStatus_Employed  \\\n",
              "0             ...                                      0   \n",
              "1             ...                                      1   \n",
              "2             ...                                      0   \n",
              "3             ...                                      1   \n",
              "4             ...                                      1   \n",
              "\n",
              "   EmploymentStatus_Full-time  EmploymentStatus_Part-time  \\\n",
              "0                           1                           0   \n",
              "1                           0                           0   \n",
              "2                           1                           0   \n",
              "3                           0                           0   \n",
              "4                           0                           0   \n",
              "\n",
              "   EmploymentStatus_Retired  EmploymentStatus_Self-employed  \\\n",
              "0                         0                               0   \n",
              "1                         0                               0   \n",
              "2                         0                               0   \n",
              "3                         0                               0   \n",
              "4                         0                               0   \n",
              "\n",
              "   IncomeRange_$1-24,999  IncomeRange_$100,000+  IncomeRange_$25,000-49,999  \\\n",
              "0                      0                      0                           1   \n",
              "1                      0                      0                           0   \n",
              "2                      0                      1                           0   \n",
              "3                      0                      0                           0   \n",
              "4                      0                      0                           0   \n",
              "\n",
              "   IncomeRange_$50,000-74,999  IncomeRange_$75,000-99,999  \n",
              "0                           0                           0  \n",
              "1                           0                           1  \n",
              "2                           0                           0  \n",
              "3                           0                           1  \n",
              "4                           1                           0  \n",
              "\n",
              "[5 rows x 43 columns]"
            ]
          },
          "metadata": {
            "tags": []
          },
          "execution_count": 36
        }
      ]
    },
    {
      "cell_type": "code",
      "metadata": {
        "scrolled": true,
        "id": "NBFezAlK6uUY",
        "colab_type": "code",
        "colab": {},
        "outputId": "367261c7-b785-4883-a5e8-96de949ddb86"
      },
      "source": [
        "Y1 = df_d4.ix[:,1]\n",
        "X1 = df_d4\n",
        "X1 = X1.drop(['Grade'],axis=1,inplace=False)\n",
        "from sklearn.model_selection import train_test_split\n",
        "X_train1, X_test1, Y_train1, Y_test1 = train_test_split(X1, Y1, test_size = .3, random_state=25)\n",
        "len(X_train1)\n",
        "LR = LogisticRegression()\n",
        "LR.fit(X_train1,Y_train1)\n",
        "scores=cross_val_score(LR,X_train1,Y_train1,cv=10)\n",
        "print (np.mean(scores))\n",
        "LR.score(X_test1, Y_test1)\n",
        "plt.plot(LR.coef_[0])"
      ],
      "execution_count": null,
      "outputs": [
        {
          "output_type": "stream",
          "text": [
            "/anaconda/lib/python3.6/site-packages/ipykernel_launcher.py:1: DeprecationWarning: \n",
            ".ix is deprecated. Please use\n",
            ".loc for label based indexing or\n",
            ".iloc for positional indexing\n",
            "\n",
            "See the documentation here:\n",
            "http://pandas.pydata.org/pandas-docs/stable/indexing.html#deprecate_ix\n",
            "  \"\"\"Entry point for launching an IPython kernel.\n"
          ],
          "name": "stderr"
        },
        {
          "output_type": "stream",
          "text": [
            "0.841739737847\n"
          ],
          "name": "stdout"
        },
        {
          "output_type": "execute_result",
          "data": {
            "text/plain": [
              "[<matplotlib.lines.Line2D at 0x129254128>]"
            ]
          },
          "metadata": {
            "tags": []
          },
          "execution_count": 37
        },
        {
          "output_type": "display_data",
          "data": {
            "image/png": "[encoded data removed]",
            "text/plain": [
              "<matplotlib.figure.Figure at 0x12acf0048>"
            ]
          },
          "metadata": {
            "tags": []
          }
        }
      ]
    },
    {
      "cell_type": "code",
      "metadata": {
        "id": "_3otAhou6uUb",
        "colab_type": "code",
        "colab": {},
        "outputId": "861cef56-7f1e-45bf-ae54-137ef940bc54"
      },
      "source": [
        "df_d4.info()"
      ],
      "execution_count": null,
      "outputs": [
        {
          "output_type": "stream",
          "text": [
            "<class 'pandas.core.frame.DataFrame'>\n",
            "RangeIndex: 45965 entries, 0 to 45964\n",
            "Data columns (total 43 columns):\n",
            "Term                                   45965 non-null int64\n",
            "Grade                                  45965 non-null int64\n",
            "ListingCategory (numeric)              45965 non-null int64\n",
            "IsBorrowerHomeowner                    45965 non-null bool\n",
            "CurrentlyInGroup                       45965 non-null bool\n",
            "CurrentCreditLines                     45965 non-null float64\n",
            "OpenCreditLines                        45965 non-null float64\n",
            "TotalCreditLinespast7years             45965 non-null float64\n",
            "OpenRevolvingAccounts                  45965 non-null int64\n",
            "InquiriesLast6Months                   45965 non-null float64\n",
            "TotalInquiries                         45965 non-null float64\n",
            "CurrentDelinquencies                   45965 non-null float64\n",
            "DelinquenciesLast7Years                45965 non-null float64\n",
            "PublicRecordsLast10Years               45965 non-null float64\n",
            "PublicRecordsLast12Months              45965 non-null float64\n",
            "BankcardUtilization                    45965 non-null float64\n",
            "TotalTrades                            45965 non-null float64\n",
            "TradesNeverDelinquent (percentage)     45965 non-null float64\n",
            "TradesOpenedLast6Months                45965 non-null float64\n",
            "DebtToIncomeRatio                      45965 non-null float64\n",
            "IncomeVerifiable                       45965 non-null bool\n",
            "LoanMonthsSinceOrigination             45965 non-null int64\n",
            "LoanOriginalAmount                     45965 non-null int64\n",
            "MonthlyLoanPayment                     45965 non-null float64\n",
            "PercentFunded                          45965 non-null float64\n",
            "InvestmentFromFriendsCount             45965 non-null int64\n",
            "Occupation_Accountant/CPA              45965 non-null uint8\n",
            "Occupation_Administrative Assistant    45965 non-null uint8\n",
            "Occupation_Analyst                     45965 non-null uint8\n",
            "Occupation_Teacher                     45965 non-null uint8\n",
            "Occupation_Tradesman - Carpenter       45965 non-null uint8\n",
            "Occupation_Tradesman - Mechanic        45965 non-null uint8\n",
            "Occupation_Waiter/Waitress             45965 non-null uint8\n",
            "EmploymentStatus_Employed              45965 non-null uint8\n",
            "EmploymentStatus_Full-time             45965 non-null uint8\n",
            "EmploymentStatus_Part-time             45965 non-null uint8\n",
            "EmploymentStatus_Retired               45965 non-null uint8\n",
            "EmploymentStatus_Self-employed         45965 non-null uint8\n",
            "IncomeRange_$1-24,999                  45965 non-null uint8\n",
            "IncomeRange_$100,000+                  45965 non-null uint8\n",
            "IncomeRange_$25,000-49,999             45965 non-null uint8\n",
            "IncomeRange_$50,000-74,999             45965 non-null uint8\n",
            "IncomeRange_$75,000-99,999             45965 non-null uint8\n",
            "dtypes: bool(3), float64(16), int64(7), uint8(17)\n",
            "memory usage: 8.9 MB\n"
          ],
          "name": "stdout"
        }
      ]
    },
    {
      "cell_type": "markdown",
      "metadata": {
        "id": "BoQYw3eN6uUd",
        "colab_type": "text"
      },
      "source": [
        "# RandomForest"
      ]
    },
    {
      "cell_type": "code",
      "metadata": {
        "id": "A5jkdsbU6uUd",
        "colab_type": "code",
        "colab": {},
        "outputId": "80ab8192-eb29-4d55-b2ea-2122ff7b1188"
      },
      "source": [
        "Y1 = df_d1.ix[:,1]\n",
        "X1 = df_d1\n",
        "X1 = X1.drop(['Grade'],axis=1,inplace=False)\n",
        "from sklearn.model_selection import train_test_split\n",
        "X_train1, X_test1, Y_train1, Y_test1 = train_test_split(X1, Y1, test_size = .3, random_state=25)\n",
        "len(X_train1)"
      ],
      "execution_count": null,
      "outputs": [
        {
          "output_type": "execute_result",
          "data": {
            "text/plain": [
              "32175"
            ]
          },
          "metadata": {
            "tags": []
          },
          "execution_count": 45
        }
      ]
    },
    {
      "cell_type": "code",
      "metadata": {
        "id": "CMOvDP-96uUi",
        "colab_type": "code",
        "colab": {},
        "outputId": "7682c0f0-0700-4e3b-a7a2-aa18462e4e06"
      },
      "source": [
        "from sklearn.ensemble import RandomForestClassifier\n",
        "from sklearn.tree import DecisionTreeRegressor \n",
        "from sklearn.ensemble import RandomForestRegressor\n",
        "\n",
        "rf = RandomForestClassifier()\n",
        "rf.fit(X_train1,Y_train1)\n",
        "rf.score(X_test1,Y_test1)"
      ],
      "execution_count": null,
      "outputs": [
        {
          "output_type": "execute_result",
          "data": {
            "text/plain": [
              "0.82661348803480783"
            ]
          },
          "metadata": {
            "tags": []
          },
          "execution_count": 46
        }
      ]
    },
    {
      "cell_type": "code",
      "metadata": {
        "scrolled": false,
        "id": "Nk0QAile6uUl",
        "colab_type": "code",
        "colab": {},
        "outputId": "4ce6bfc5-4849-4d55-dc12-c44aaf946548"
      },
      "source": [
        "importances = rf.feature_importances_\n",
        "coef =list(importances)\n",
        "coef_name = list(X_test1.columns)\n",
        "coef_data = {'name':coef_name, 'value':coef}\n",
        "df_coef = pd.DataFrame(coef_data)\n",
        "df_coef = df_coef.sort_index(axis = 0,ascending = False,by = 'value')\n",
        "print(df_coef)\n",
        "plt.plot(importances)"
      ],
      "execution_count": null,
      "outputs": [
        {
          "output_type": "stream",
          "text": [
            "                                              name     value\n",
            "19                         AvailableBankcardCredit  0.170515\n",
            "18                             BankcardUtilization  0.080250\n",
            "28                              LoanOriginalAmount  0.074562\n",
            "29                              MonthlyLoanPayment  0.061144\n",
            "23                               DebtToIncomeRatio  0.052535\n",
            "27                      LoanMonthsSinceOrigination  0.040755\n",
            "11                                  TotalInquiries  0.032514\n",
            "10                            InquiriesLast6Months  0.032050\n",
            "9                      OpenRevolvingMonthlyPayment  0.030936\n",
            "25                             StatedMonthlyIncome  0.030736\n",
            "21              TradesNeverDelinquent (percentage)  0.030397\n",
            "17                          RevolvingCreditBalance  0.027530\n",
            "20                                     TotalTrades  0.023417\n",
            "7                       TotalCreditLinespast7years  0.022793\n",
            "2                         EmploymentStatusDuration  0.022508\n",
            "6                                  OpenCreditLines  0.021506\n",
            "12                            CurrentDelinquencies  0.020303\n",
            "5                               CurrentCreditLines  0.019769\n",
            "8                            OpenRevolvingAccounts  0.018875\n",
            "14                         DelinquenciesLast7Years  0.016220\n",
            "22                         TradesOpenedLast6Months  0.015764\n",
            "111                          IncomeRange_$100,000+  0.012567\n",
            "13                                AmountDelinquent  0.012256\n",
            "1                        ListingCategory (numeric)  0.011476\n",
            "15                        PublicRecordsLast10Years  0.010489\n",
            "3                              IsBorrowerHomeowner  0.010392\n",
            "26                       LoanCurrentDaysDelinquent  0.009838\n",
            "0                                             Term  0.009151\n",
            "101                      EmploymentStatus_Employed  0.007524\n",
            "102                     EmploymentStatus_Full-time  0.005919\n",
            "..                                             ...       ...\n",
            "37                            Occupation_Architect  0.000213\n",
            "50                  Occupation_Engineer - Chemical  0.000189\n",
            "94                       Occupation_Teacher's Aide  0.000159\n",
            "83                            Occupation_Scientist  0.000150\n",
            "70                           Occupation_Pharmacist  0.000140\n",
            "42                              Occupation_Chemist  0.000139\n",
            "48                              Occupation_Dentist  0.000139\n",
            "41                           Occupation_Car Dealer  0.000129\n",
            "98                  Occupation_Tradesman - Plumber  0.000127\n",
            "44                               Occupation_Clergy  0.000109\n",
            "87   Occupation_Student - College Graduate Student  0.000096\n",
            "95                Occupation_Tradesman - Carpenter  0.000094\n",
            "59                             Occupation_Investor  0.000088\n",
            "55                     Occupation_Flight Attendant  0.000080\n",
            "115                      IncomeRange_Not displayed  0.000078\n",
            "71           Occupation_Pilot - Private/Commercial  0.000070\n",
            "86           Occupation_Student - College Freshman  0.000054\n",
            "104                  EmploymentStatus_Not employed  0.000054\n",
            "58                            Occupation_Homemaker  0.000053\n",
            "90          Occupation_Student - College Sophomore  0.000030\n",
            "77                         Occupation_Psychologist  0.000024\n",
            "60                                Occupation_Judge  0.000018\n",
            "88             Occupation_Student - College Junior  0.000018\n",
            "79                            Occupation_Religious  0.000015\n",
            "91          Occupation_Student - Community College  0.000011\n",
            "89             Occupation_Student - College Senior  0.000008\n",
            "116                       IncomeRange_Not employed  0.000005\n",
            "103                 EmploymentStatus_Not available  0.000000\n",
            "92           Occupation_Student - Technical School  0.000000\n",
            "109                                IncomeRange_$0   0.000000\n",
            "\n",
            "[117 rows x 2 columns]\n"
          ],
          "name": "stdout"
        },
        {
          "output_type": "stream",
          "text": [
            "/anaconda/lib/python3.6/site-packages/ipykernel_launcher.py:6: FutureWarning: by argument to sort_index is deprecated, pls use .sort_values(by=...)\n",
            "  \n"
          ],
          "name": "stderr"
        },
        {
          "output_type": "execute_result",
          "data": {
            "text/plain": [
              "[<matplotlib.lines.Line2D at 0x124e020f0>]"
            ]
          },
          "metadata": {
            "tags": []
          },
          "execution_count": 47
        },
        {
          "output_type": "display_data",
          "data": {
            "image/png": "[encoded data removed]",
            "text/plain": [
              "<matplotlib.figure.Figure at 0x1310d7d30>"
            ]
          },
          "metadata": {
            "tags": []
          }
        }
      ]
    },
    {
      "cell_type": "code",
      "metadata": {
        "id": "Bv6Xolwr6uUn",
        "colab_type": "code",
        "colab": {},
        "outputId": "4174d7b0-d210-4492-992f-023da2561a39"
      },
      "source": [
        "plt.plot(importances)"
      ],
      "execution_count": null,
      "outputs": [
        {
          "output_type": "execute_result",
          "data": {
            "text/plain": [
              "[<matplotlib.lines.Line2D at 0x12da367b8>]"
            ]
          },
          "metadata": {
            "tags": []
          },
          "execution_count": 48
        },
        {
          "output_type": "display_data",
          "data": {
            "image/png": "[encoded data removed]",
            "text/plain": [
              "<matplotlib.figure.Figure at 0x129c7ee10>"
            ]
          },
          "metadata": {
            "tags": []
          }
        }
      ]
    },
    {
      "cell_type": "code",
      "metadata": {
        "id": "onesNykg6uUp",
        "colab_type": "code",
        "colab": {}
      },
      "source": [
        "df_d21 = df_d1.ix[:,:35]\n",
        "df_d22 = df_d1.ix[:,100:116]\n",
        "df_d2 = pd.concat([df_d21,df_d22],axis=1)"
      ],
      "execution_count": null,
      "outputs": []
    },
    {
      "cell_type": "code",
      "metadata": {
        "id": "5PbQ0PPc6uUs",
        "colab_type": "code",
        "colab": {},
        "outputId": "dee54763-6a23-4181-c035-a47fc8390a84"
      },
      "source": [
        "Y1 = df_d2.ix[:,1]\n",
        "X1 = df_d2\n",
        "X1 = X1.drop(['Grade'],axis=1,inplace=False)\n",
        "from sklearn.model_selection import train_test_split\n",
        "X_train1, X_test1, Y_train1, Y_test1 = train_test_split(X1, Y1, test_size = .3, random_state=25)\n",
        "len(X_train1)\n",
        "rf = RandomForestClassifier()\n",
        "rf.fit(X_train1,Y_train1)\n",
        "rf.score(X_test1,Y_test1)"
      ],
      "execution_count": null,
      "outputs": [
        {
          "output_type": "stream",
          "text": [
            "/anaconda/lib/python3.6/site-packages/ipykernel_launcher.py:1: DeprecationWarning: \n",
            ".ix is deprecated. Please use\n",
            ".loc for label based indexing or\n",
            ".iloc for positional indexing\n",
            "\n",
            "See the documentation here:\n",
            "http://pandas.pydata.org/pandas-docs/stable/indexing.html#deprecate_ix\n",
            "  \"\"\"Entry point for launching an IPython kernel.\n"
          ],
          "name": "stderr"
        },
        {
          "output_type": "execute_result",
          "data": {
            "text/plain": [
              "0.83981145757795506"
            ]
          },
          "metadata": {
            "tags": []
          },
          "execution_count": 50
        }
      ]
    },
    {
      "cell_type": "code",
      "metadata": {
        "id": "eHf0iPMl6uUv",
        "colab_type": "code",
        "colab": {},
        "outputId": "18dc382d-194c-41a6-8701-bdd72ded390d"
      },
      "source": [
        "importances = rf.feature_importances_\n",
        "coef =list(importances)\n",
        "coef_name = list(X_test1.columns)\n",
        "coef_data = {'name':coef_name, 'value':coef}\n",
        "df_coef = pd.DataFrame(coef_data)\n",
        "df_coef = df_coef.sort_index(axis = 0,ascending = False,by = 'value')\n",
        "print(df_coef)\n",
        "plt.plot(importances)"
      ],
      "execution_count": null,
      "outputs": [
        {
          "output_type": "stream",
          "text": [
            "                                  name     value\n",
            "19             AvailableBankcardCredit  0.153975\n",
            "28                  LoanOriginalAmount  0.105293\n",
            "29                  MonthlyLoanPayment  0.080241\n",
            "18                 BankcardUtilization  0.075610\n",
            "23                   DebtToIncomeRatio  0.058085\n",
            "21  TradesNeverDelinquent (percentage)  0.042943\n",
            "10                InquiriesLast6Months  0.042239\n",
            "27          LoanMonthsSinceOrigination  0.041836\n",
            "25                 StatedMonthlyIncome  0.034220\n",
            "17              RevolvingCreditBalance  0.029304\n",
            "14             DelinquenciesLast7Years  0.027519\n",
            "9          OpenRevolvingMonthlyPayment  0.027456\n",
            "11                      TotalInquiries  0.025134\n",
            "2             EmploymentStatusDuration  0.024035\n",
            "20                         TotalTrades  0.022216\n",
            "7           TotalCreditLinespast7years  0.020858\n",
            "8                OpenRevolvingAccounts  0.020550\n",
            "5                   CurrentCreditLines  0.018336\n",
            "6                      OpenCreditLines  0.017390\n",
            "13                    AmountDelinquent  0.015423\n",
            "22             TradesOpenedLast6Months  0.015330\n",
            "12                CurrentDelinquencies  0.012829\n",
            "1            ListingCategory (numeric)  0.011439\n",
            "0                                 Term  0.011226\n",
            "26           LoanCurrentDaysDelinquent  0.009678\n",
            "3                  IsBorrowerHomeowner  0.008454\n",
            "36           EmploymentStatus_Employed  0.007570\n",
            "15            PublicRecordsLast10Years  0.006976\n",
            "46               IncomeRange_$100,000+  0.006803\n",
            "37          EmploymentStatus_Full-time  0.005546\n",
            "47          IncomeRange_$25,000-49,999  0.003893\n",
            "48          IncomeRange_$50,000-74,999  0.003038\n",
            "49          IncomeRange_$75,000-99,999  0.002487\n",
            "4                     CurrentlyInGroup  0.002051\n",
            "45               IncomeRange_$1-24,999  0.001751\n",
            "40              EmploymentStatus_Other  0.001277\n",
            "34             Occupation_Truck Driver  0.001069\n",
            "33         InvestmentFromFriendsAmount  0.000958\n",
            "31                     Recommendations  0.000948\n",
            "43      EmploymentStatus_Self-employed  0.000810\n",
            "32          InvestmentFromFriendsCount  0.000723\n",
            "16           PublicRecordsLast12Months  0.000599\n",
            "42            EmploymentStatus_Retired  0.000509\n",
            "30                       PercentFunded  0.000419\n",
            "41          EmploymentStatus_Part-time  0.000407\n",
            "35          Occupation_Waiter/Waitress  0.000301\n",
            "24                    IncomeVerifiable  0.000210\n",
            "39       EmploymentStatus_Not employed  0.000036\n",
            "44                     IncomeRange_$0   0.000000\n",
            "38      EmploymentStatus_Not available  0.000000\n"
          ],
          "name": "stdout"
        },
        {
          "output_type": "stream",
          "text": [
            "/anaconda/lib/python3.6/site-packages/ipykernel_launcher.py:6: FutureWarning: by argument to sort_index is deprecated, pls use .sort_values(by=...)\n",
            "  \n"
          ],
          "name": "stderr"
        },
        {
          "output_type": "execute_result",
          "data": {
            "text/plain": [
              "[<matplotlib.lines.Line2D at 0x123dd11d0>]"
            ]
          },
          "metadata": {
            "tags": []
          },
          "execution_count": 51
        },
        {
          "output_type": "display_data",
          "data": {
            "image/png": "[encoded data removed]",
            "text/plain": [
              "<matplotlib.figure.Figure at 0x124185630>"
            ]
          },
          "metadata": {
            "tags": []
          }
        }
      ]
    },
    {
      "cell_type": "code",
      "metadata": {
        "scrolled": true,
        "id": "-E6DDhtc6uUx",
        "colab_type": "code",
        "colab": {}
      },
      "source": [
        "df_d3 = df_d2.ix[:,:39]"
      ],
      "execution_count": null,
      "outputs": []
    },
    {
      "cell_type": "code",
      "metadata": {
        "id": "SaBHG8-X6uUz",
        "colab_type": "code",
        "colab": {},
        "outputId": "fed6533d-cd56-4bed-c414-7d2122bb1128"
      },
      "source": [
        "Y1 = df_d3.ix[:,1]\n",
        "X1 = df_d3\n",
        "X1 = X1.drop(['Grade'],axis=1,inplace=False)\n",
        "from sklearn.model_selection import train_test_split\n",
        "X_train1, X_test1, Y_train1, Y_test1 = train_test_split(X1, Y1, test_size = .3, random_state=25)\n",
        "len(X_train1)\n",
        "rf = RandomForestClassifier()\n",
        "rf.fit(X_train1,Y_train1)\n",
        "rf.score(X_test1,Y_test1)"
      ],
      "execution_count": null,
      "outputs": [
        {
          "output_type": "stream",
          "text": [
            "/anaconda/lib/python3.6/site-packages/ipykernel_launcher.py:1: DeprecationWarning: \n",
            ".ix is deprecated. Please use\n",
            ".loc for label based indexing or\n",
            ".iloc for positional indexing\n",
            "\n",
            "See the documentation here:\n",
            "http://pandas.pydata.org/pandas-docs/stable/indexing.html#deprecate_ix\n",
            "  \"\"\"Entry point for launching an IPython kernel.\n"
          ],
          "name": "stderr"
        },
        {
          "output_type": "execute_result",
          "data": {
            "text/plain": [
              "0.84379985496736765"
            ]
          },
          "metadata": {
            "tags": []
          },
          "execution_count": 53
        }
      ]
    },
    {
      "cell_type": "code",
      "metadata": {
        "id": "R9LDMP3Y6uU1",
        "colab_type": "code",
        "colab": {},
        "outputId": "d62bc83d-2a3e-4daf-db4e-a0a08cbcfec8"
      },
      "source": [
        "importances = rf.feature_importances_\n",
        "coef =list(importances)\n",
        "coef_name = list(X_test1.columns)\n",
        "coef_data = {'name':coef_name, 'value':coef}\n",
        "df_coef = pd.DataFrame(coef_data)\n",
        "df_coef = df_coef.sort_index(axis = 0,ascending = False,by = 'value')\n",
        "print(df_coef)\n",
        "plt.plot(importances)"
      ],
      "execution_count": null,
      "outputs": [
        {
          "output_type": "stream",
          "text": [
            "                                  name     value\n",
            "19             AvailableBankcardCredit  0.153891\n",
            "29                  MonthlyLoanPayment  0.104754\n",
            "28                  LoanOriginalAmount  0.102924\n",
            "18                 BankcardUtilization  0.079387\n",
            "23                   DebtToIncomeRatio  0.056812\n",
            "27          LoanMonthsSinceOrigination  0.045863\n",
            "21  TradesNeverDelinquent (percentage)  0.044433\n",
            "25                 StatedMonthlyIncome  0.043684\n",
            "11                      TotalInquiries  0.033887\n",
            "10                InquiriesLast6Months  0.030902\n",
            "17              RevolvingCreditBalance  0.028261\n",
            "9          OpenRevolvingMonthlyPayment  0.028169\n",
            "2             EmploymentStatusDuration  0.024786\n",
            "20                         TotalTrades  0.022634\n",
            "7           TotalCreditLinespast7years  0.021240\n",
            "6                      OpenCreditLines  0.019449\n",
            "5                   CurrentCreditLines  0.018558\n",
            "8                OpenRevolvingAccounts  0.018344\n",
            "14             DelinquenciesLast7Years  0.014853\n",
            "22             TradesOpenedLast6Months  0.013492\n",
            "12                CurrentDelinquencies  0.012456\n",
            "13                    AmountDelinquent  0.011329\n",
            "1            ListingCategory (numeric)  0.010984\n",
            "3                  IsBorrowerHomeowner  0.010859\n",
            "0                                 Term  0.010804\n",
            "15            PublicRecordsLast10Years  0.009972\n",
            "26           LoanCurrentDaysDelinquent  0.008789\n",
            "36           EmploymentStatus_Employed  0.006376\n",
            "37          EmploymentStatus_Full-time  0.005238\n",
            "4                     CurrentlyInGroup  0.001774\n",
            "31                     Recommendations  0.001123\n",
            "33         InvestmentFromFriendsAmount  0.001081\n",
            "34             Occupation_Truck Driver  0.000755\n",
            "32          InvestmentFromFriendsCount  0.000688\n",
            "16           PublicRecordsLast12Months  0.000592\n",
            "35          Occupation_Waiter/Waitress  0.000321\n",
            "30                       PercentFunded  0.000313\n",
            "24                    IncomeVerifiable  0.000225\n"
          ],
          "name": "stdout"
        },
        {
          "output_type": "stream",
          "text": [
            "/anaconda/lib/python3.6/site-packages/ipykernel_launcher.py:6: FutureWarning: by argument to sort_index is deprecated, pls use .sort_values(by=...)\n",
            "  \n"
          ],
          "name": "stderr"
        },
        {
          "output_type": "execute_result",
          "data": {
            "text/plain": [
              "[<matplotlib.lines.Line2D at 0x127dfc7f0>]"
            ]
          },
          "metadata": {
            "tags": []
          },
          "execution_count": 54
        },
        {
          "output_type": "display_data",
          "data": {
            "image/png": "[encoded data removed]",
            "text/plain": [
              "<matplotlib.figure.Figure at 0x12cdfe4a8>"
            ]
          },
          "metadata": {
            "tags": []
          }
        }
      ]
    },
    {
      "cell_type": "code",
      "metadata": {
        "id": "in-7YNHb6uU3",
        "colab_type": "code",
        "colab": {}
      },
      "source": [
        "df_d4 = df_d3.drop(['ListingCategory (numeric)'],axis=1, inplace=False)"
      ],
      "execution_count": null,
      "outputs": []
    },
    {
      "cell_type": "code",
      "metadata": {
        "id": "RL52GAUf6uU6",
        "colab_type": "code",
        "colab": {},
        "outputId": "62a607b5-afb8-4851-f7ca-eeadf73b7929"
      },
      "source": [
        "Y1 = df_d4.ix[:,1]\n",
        "X1 = df_d4\n",
        "X1 = X1.drop(['Grade'],axis=1,inplace=False)\n",
        "from sklearn.model_selection import train_test_split\n",
        "X_train1, X_test1, Y_train1, Y_test1 = train_test_split(X1, Y1, test_size = .3, random_state=25)\n",
        "len(X_train1)\n",
        "rf = RandomForestClassifier()\n",
        "rf.fit(X_train1,Y_train1)\n",
        "rf.score(X_test1,Y_test1)"
      ],
      "execution_count": null,
      "outputs": [
        {
          "output_type": "stream",
          "text": [
            "/anaconda/lib/python3.6/site-packages/ipykernel_launcher.py:1: DeprecationWarning: \n",
            ".ix is deprecated. Please use\n",
            ".loc for label based indexing or\n",
            ".iloc for positional indexing\n",
            "\n",
            "See the documentation here:\n",
            "http://pandas.pydata.org/pandas-docs/stable/indexing.html#deprecate_ix\n",
            "  \"\"\"Entry point for launching an IPython kernel.\n"
          ],
          "name": "stderr"
        },
        {
          "output_type": "execute_result",
          "data": {
            "text/plain": [
              "0.84467005076142132"
            ]
          },
          "metadata": {
            "tags": []
          },
          "execution_count": 56
        }
      ]
    },
    {
      "cell_type": "code",
      "metadata": {
        "id": "C9wLdzR16uU9",
        "colab_type": "code",
        "colab": {},
        "outputId": "72601679-8936-4a26-da1e-d1b897e50739"
      },
      "source": [
        "importances = rf.feature_importances_\n",
        "coef =list(importances)\n",
        "coef_name = list(X_test1.columns)\n",
        "coef_data = {'name':coef_name, 'value':coef}\n",
        "df_coef = pd.DataFrame(coef_data)\n",
        "df_coef = df_coef.sort_index(axis = 0,ascending = False,by = 'value')\n",
        "print(df_coef)\n",
        "plt.plot(importances)"
      ],
      "execution_count": null,
      "outputs": [
        {
          "output_type": "stream",
          "text": [
            "                                  name     value\n",
            "18             AvailableBankcardCredit  0.161749\n",
            "27                  LoanOriginalAmount  0.124921\n",
            "17                 BankcardUtilization  0.085478\n",
            "28                  MonthlyLoanPayment  0.082941\n",
            "22                   DebtToIncomeRatio  0.058464\n",
            "26          LoanMonthsSinceOrigination  0.044483\n",
            "9                 InquiriesLast6Months  0.042533\n",
            "20  TradesNeverDelinquent (percentage)  0.038862\n",
            "24                 StatedMonthlyIncome  0.034012\n",
            "13             DelinquenciesLast7Years  0.030987\n",
            "16              RevolvingCreditBalance  0.029869\n",
            "8          OpenRevolvingMonthlyPayment  0.027995\n",
            "1             EmploymentStatusDuration  0.025468\n",
            "10                      TotalInquiries  0.024702\n",
            "19                         TotalTrades  0.021787\n",
            "6           TotalCreditLinespast7years  0.021717\n",
            "4                   CurrentCreditLines  0.021023\n",
            "7                OpenRevolvingAccounts  0.018519\n",
            "5                      OpenCreditLines  0.017744\n",
            "21             TradesOpenedLast6Months  0.013859\n",
            "0                                 Term  0.011359\n",
            "12                    AmountDelinquent  0.010833\n",
            "25           LoanCurrentDaysDelinquent  0.007867\n",
            "11                CurrentDelinquencies  0.007818\n",
            "2                  IsBorrowerHomeowner  0.007581\n",
            "36          EmploymentStatus_Full-time  0.007458\n",
            "14            PublicRecordsLast10Years  0.007063\n",
            "35           EmploymentStatus_Employed  0.005689\n",
            "3                     CurrentlyInGroup  0.001826\n",
            "30                     Recommendations  0.001413\n",
            "33             Occupation_Truck Driver  0.001016\n",
            "32         InvestmentFromFriendsAmount  0.000938\n",
            "31          InvestmentFromFriendsCount  0.000617\n",
            "29                       PercentFunded  0.000451\n",
            "15           PublicRecordsLast12Months  0.000383\n",
            "34          Occupation_Waiter/Waitress  0.000352\n",
            "23                    IncomeVerifiable  0.000223\n"
          ],
          "name": "stdout"
        },
        {
          "output_type": "stream",
          "text": [
            "/anaconda/lib/python3.6/site-packages/ipykernel_launcher.py:6: FutureWarning: by argument to sort_index is deprecated, pls use .sort_values(by=...)\n",
            "  \n"
          ],
          "name": "stderr"
        },
        {
          "output_type": "execute_result",
          "data": {
            "text/plain": [
              "[<matplotlib.lines.Line2D at 0x124bcde10>]"
            ]
          },
          "metadata": {
            "tags": []
          },
          "execution_count": 57
        },
        {
          "output_type": "display_data",
          "data": {
            "image/png": "[encoded data removed]",
            "text/plain": [
              "<matplotlib.figure.Figure at 0x129c00b70>"
            ]
          },
          "metadata": {
            "tags": []
          }
        }
      ]
    },
    {
      "cell_type": "code",
      "metadata": {
        "id": "IzqR24696uVA",
        "colab_type": "code",
        "colab": {}
      },
      "source": [
        "df_d5 = df_d4.ix[:,:30]"
      ],
      "execution_count": null,
      "outputs": []
    },
    {
      "cell_type": "code",
      "metadata": {
        "id": "HlJgXqp86uVE",
        "colab_type": "code",
        "colab": {},
        "outputId": "8b77b960-129d-418c-9a12-5f27a342405c"
      },
      "source": [
        "Y1 = df_d5.ix[:,1]\n",
        "X1 = df_d5\n",
        "X1 = X1.drop(['Grade'],axis=1,inplace=False)\n",
        "from sklearn.model_selection import train_test_split\n",
        "X_train1, X_test1, Y_train1, Y_test1 = train_test_split(X1, Y1, test_size = .3, random_state=25)\n",
        "len(X_train1)\n",
        "rf = RandomForestClassifier()\n",
        "rf.fit(X_train1,Y_train1)\n",
        "rf.score(X_test1,Y_test1)"
      ],
      "execution_count": null,
      "outputs": [
        {
          "output_type": "execute_result",
          "data": {
            "text/plain": [
              "0.84916606236403191"
            ]
          },
          "metadata": {
            "tags": []
          },
          "execution_count": 63
        }
      ]
    },
    {
      "cell_type": "code",
      "metadata": {
        "id": "lb0QaLAI6uVI",
        "colab_type": "code",
        "colab": {},
        "outputId": "f0b7bae4-cae6-4c5f-d4a5-19832eea60f3"
      },
      "source": [
        "importances = rf.feature_importances_\n",
        "coef =list(importances)\n",
        "coef_name = list(X_test1.columns)\n",
        "coef_data = {'name':coef_name, 'value':coef}\n",
        "df_coef = pd.DataFrame(coef_data)\n",
        "df_coef = df_coef.sort_index(axis = 0,ascending = False,by = 'value')\n",
        "print(df_coef)\n",
        "plt.plot(importances)"
      ],
      "execution_count": null,
      "outputs": [
        {
          "output_type": "stream",
          "text": [
            "                                  name     value\n",
            "18             AvailableBankcardCredit  0.153693\n",
            "28                  MonthlyLoanPayment  0.145196\n",
            "17                 BankcardUtilization  0.083917\n",
            "27                  LoanOriginalAmount  0.078406\n",
            "22                   DebtToIncomeRatio  0.061431\n",
            "26          LoanMonthsSinceOrigination  0.046644\n",
            "20  TradesNeverDelinquent (percentage)  0.046179\n",
            "24                 StatedMonthlyIncome  0.038644\n",
            "9                 InquiriesLast6Months  0.037095\n",
            "10                      TotalInquiries  0.030260\n",
            "16              RevolvingCreditBalance  0.029149\n",
            "8          OpenRevolvingMonthlyPayment  0.028264\n",
            "1             EmploymentStatusDuration  0.024688\n",
            "6           TotalCreditLinespast7years  0.022775\n",
            "19                         TotalTrades  0.021848\n",
            "4                   CurrentCreditLines  0.020187\n",
            "7                OpenRevolvingAccounts  0.018625\n",
            "5                      OpenCreditLines  0.017314\n",
            "21             TradesOpenedLast6Months  0.015740\n",
            "13             DelinquenciesLast7Years  0.014197\n",
            "12                    AmountDelinquent  0.013899\n",
            "0                                 Term  0.012069\n",
            "25           LoanCurrentDaysDelinquent  0.010805\n",
            "14            PublicRecordsLast10Years  0.009408\n",
            "11                CurrentDelinquencies  0.008979\n",
            "2                  IsBorrowerHomeowner  0.007801\n",
            "3                     CurrentlyInGroup  0.002019\n",
            "15           PublicRecordsLast12Months  0.000530\n",
            "23                    IncomeVerifiable  0.000237\n"
          ],
          "name": "stdout"
        },
        {
          "output_type": "stream",
          "text": [
            "/anaconda/lib/python3.6/site-packages/ipykernel_launcher.py:6: FutureWarning: by argument to sort_index is deprecated, pls use .sort_values(by=...)\n",
            "  \n"
          ],
          "name": "stderr"
        },
        {
          "output_type": "execute_result",
          "data": {
            "text/plain": [
              "[<matplotlib.lines.Line2D at 0x12c09b5c0>]"
            ]
          },
          "metadata": {
            "tags": []
          },
          "execution_count": 64
        },
        {
          "output_type": "display_data",
          "data": {
            "image/png": "[encoded data removed]",
            "text/plain": [
              "<matplotlib.figure.Figure at 0x1310bee80>"
            ]
          },
          "metadata": {
            "tags": []
          }
        }
      ]
    },
    {
      "cell_type": "code",
      "metadata": {
        "id": "PcrCC1gt6uVO",
        "colab_type": "code",
        "colab": {}
      },
      "source": [
        ""
      ],
      "execution_count": null,
      "outputs": []
    }
  ]
}